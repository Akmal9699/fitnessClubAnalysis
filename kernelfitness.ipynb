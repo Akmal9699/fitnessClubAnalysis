{
 "cells": [
  {
   "cell_type": "code",
   "execution_count": 1,
   "metadata": {
    "_cell_guid": "b1076dfc-b9ad-4769-8c92-a6c4dae69d19",
    "_uuid": "8f2839f25d086af736a60e9eeb907d3b93b6e0e5"
   },
   "outputs": [
    {
     "name": "stdout",
     "output_type": "stream",
     "text": [
      "/kaggle/input/cardiogoodfitness/CardioGoodFitness.csv\n"
     ]
    }
   ],
   "source": [
    "# This Python 3 environment comes with many helpful analytics libraries installed\n",
    "# It is defined by the kaggle/python docker image: https://github.com/kaggle/docker-python\n",
    "# For example, here's several helpful packages to load in \n",
    "\n",
    "import numpy as np # linear algebra\n",
    "import pandas as pd # data processing, CSV file I/O (e.g. pd.read_csv)\n",
    "\n",
    "# Input data files are available in the \"../input/\" directory.\n",
    "# For example, running this (by clicking run or pressing Shift+Enter) will list all files under the input directory\n",
    "\n",
    "import os\n",
    "for dirname,_, filenames in os.walk('/kaggle/input'):\n",
    "    for filename in filenames:\n",
    "        print(os.path.join(dirname, filename))\n",
    "\n",
    "# Any results you write to the current directory are saved as output."
   ]
  },
  {
   "cell_type": "code",
   "execution_count": 2,
   "metadata": {
    "_cell_guid": "79c7e3d0-c299-4dcb-8224-4455121ee9b0",
    "_uuid": "d629ff2d2480ee46fbb7e2d37f6b5fab8052498a"
   },
   "outputs": [],
   "source": [
    "import csv"
   ]
  },
  {
   "cell_type": "code",
   "execution_count": 3,
   "metadata": {},
   "outputs": [
    {
     "name": "stdout",
     "output_type": "stream",
     "text": [
      "OrderedDict([('Product', 'TM195'), ('Age', '18'), ('Gender', 'Male'), ('Education', '14'), ('MaritalStatus', 'Single'), ('Usage', '3'), ('Fitness', '4'), ('Income', '29562'), ('Miles', '112')])\n",
      "OrderedDict([('Product', 'TM195'), ('Age', '19'), ('Gender', 'Male'), ('Education', '15'), ('MaritalStatus', 'Single'), ('Usage', '2'), ('Fitness', '3'), ('Income', '31836'), ('Miles', '75')])\n",
      "OrderedDict([('Product', 'TM195'), ('Age', '19'), ('Gender', 'Female'), ('Education', '14'), ('MaritalStatus', 'Partnered'), ('Usage', '4'), ('Fitness', '3'), ('Income', '30699'), ('Miles', '66')])\n",
      "OrderedDict([('Product', 'TM195'), ('Age', '19'), ('Gender', 'Male'), ('Education', '12'), ('MaritalStatus', 'Single'), ('Usage', '3'), ('Fitness', '3'), ('Income', '32973'), ('Miles', '85')])\n",
      "OrderedDict([('Product', 'TM195'), ('Age', '20'), ('Gender', 'Male'), ('Education', '13'), ('MaritalStatus', 'Partnered'), ('Usage', '4'), ('Fitness', '2'), ('Income', '35247'), ('Miles', '47')])\n",
      "OrderedDict([('Product', 'TM195'), ('Age', '20'), ('Gender', 'Female'), ('Education', '14'), ('MaritalStatus', 'Partnered'), ('Usage', '3'), ('Fitness', '3'), ('Income', '32973'), ('Miles', '66')])\n",
      "OrderedDict([('Product', 'TM195'), ('Age', '21'), ('Gender', 'Female'), ('Education', '14'), ('MaritalStatus', 'Partnered'), ('Usage', '3'), ('Fitness', '3'), ('Income', '35247'), ('Miles', '75')])\n",
      "OrderedDict([('Product', 'TM195'), ('Age', '21'), ('Gender', 'Male'), ('Education', '13'), ('MaritalStatus', 'Single'), ('Usage', '3'), ('Fitness', '3'), ('Income', '32973'), ('Miles', '85')])\n",
      "OrderedDict([('Product', 'TM195'), ('Age', '21'), ('Gender', 'Male'), ('Education', '15'), ('MaritalStatus', 'Single'), ('Usage', '5'), ('Fitness', '4'), ('Income', '35247'), ('Miles', '141')])\n",
      "OrderedDict([('Product', 'TM195'), ('Age', '21'), ('Gender', 'Female'), ('Education', '15'), ('MaritalStatus', 'Partnered'), ('Usage', '2'), ('Fitness', '3'), ('Income', '37521'), ('Miles', '85')])\n",
      "OrderedDict([('Product', 'TM195'), ('Age', '22'), ('Gender', 'Male'), ('Education', '14'), ('MaritalStatus', 'Single'), ('Usage', '3'), ('Fitness', '3'), ('Income', '36384'), ('Miles', '85')])\n",
      "OrderedDict([('Product', 'TM195'), ('Age', '22'), ('Gender', 'Female'), ('Education', '14'), ('MaritalStatus', 'Partnered'), ('Usage', '3'), ('Fitness', '2'), ('Income', '35247'), ('Miles', '66')])\n",
      "OrderedDict([('Product', 'TM195'), ('Age', '22'), ('Gender', 'Female'), ('Education', '16'), ('MaritalStatus', 'Single'), ('Usage', '4'), ('Fitness', '3'), ('Income', '36384'), ('Miles', '75')])\n",
      "OrderedDict([('Product', 'TM195'), ('Age', '22'), ('Gender', 'Female'), ('Education', '14'), ('MaritalStatus', 'Single'), ('Usage', '3'), ('Fitness', '3'), ('Income', '35247'), ('Miles', '75')])\n",
      "OrderedDict([('Product', 'TM195'), ('Age', '23'), ('Gender', 'Male'), ('Education', '16'), ('MaritalStatus', 'Partnered'), ('Usage', '3'), ('Fitness', '1'), ('Income', '38658'), ('Miles', '47')])\n",
      "OrderedDict([('Product', 'TM195'), ('Age', '23'), ('Gender', 'Male'), ('Education', '16'), ('MaritalStatus', 'Partnered'), ('Usage', '3'), ('Fitness', '3'), ('Income', '40932'), ('Miles', '75')])\n",
      "OrderedDict([('Product', 'TM195'), ('Age', '23'), ('Gender', 'Female'), ('Education', '14'), ('MaritalStatus', 'Single'), ('Usage', '2'), ('Fitness', '3'), ('Income', '34110'), ('Miles', '103')])\n",
      "OrderedDict([('Product', 'TM195'), ('Age', '23'), ('Gender', 'Male'), ('Education', '16'), ('MaritalStatus', 'Partnered'), ('Usage', '4'), ('Fitness', '3'), ('Income', '39795'), ('Miles', '94')])\n",
      "OrderedDict([('Product', 'TM195'), ('Age', '23'), ('Gender', 'Female'), ('Education', '16'), ('MaritalStatus', 'Single'), ('Usage', '4'), ('Fitness', '3'), ('Income', '38658'), ('Miles', '113')])\n",
      "OrderedDict([('Product', 'TM195'), ('Age', '23'), ('Gender', 'Female'), ('Education', '15'), ('MaritalStatus', 'Partnered'), ('Usage', '2'), ('Fitness', '2'), ('Income', '34110'), ('Miles', '38')])\n",
      "OrderedDict([('Product', 'TM195'), ('Age', '23'), ('Gender', 'Male'), ('Education', '14'), ('MaritalStatus', 'Single'), ('Usage', '4'), ('Fitness', '3'), ('Income', '38658'), ('Miles', '113')])\n",
      "OrderedDict([('Product', 'TM195'), ('Age', '23'), ('Gender', 'Male'), ('Education', '16'), ('MaritalStatus', 'Single'), ('Usage', '4'), ('Fitness', '3'), ('Income', '40932'), ('Miles', '94')])\n",
      "OrderedDict([('Product', 'TM195'), ('Age', '24'), ('Gender', 'Female'), ('Education', '16'), ('MaritalStatus', 'Single'), ('Usage', '4'), ('Fitness', '3'), ('Income', '42069'), ('Miles', '94')])\n",
      "OrderedDict([('Product', 'TM195'), ('Age', '24'), ('Gender', 'Female'), ('Education', '16'), ('MaritalStatus', 'Partnered'), ('Usage', '5'), ('Fitness', '5'), ('Income', '44343'), ('Miles', '188')])\n",
      "OrderedDict([('Product', 'TM195'), ('Age', '24'), ('Gender', 'Male'), ('Education', '14'), ('MaritalStatus', 'Single'), ('Usage', '2'), ('Fitness', '3'), ('Income', '45480'), ('Miles', '113')])\n",
      "OrderedDict([('Product', 'TM195'), ('Age', '24'), ('Gender', 'Male'), ('Education', '13'), ('MaritalStatus', 'Partnered'), ('Usage', '3'), ('Fitness', '2'), ('Income', '42069'), ('Miles', '47')])\n",
      "OrderedDict([('Product', 'TM195'), ('Age', '24'), ('Gender', 'Female'), ('Education', '16'), ('MaritalStatus', 'Single'), ('Usage', '4'), ('Fitness', '3'), ('Income', '46617'), ('Miles', '75')])\n",
      "OrderedDict([('Product', 'TM195'), ('Age', '25'), ('Gender', 'Female'), ('Education', '14'), ('MaritalStatus', 'Partnered'), ('Usage', '3'), ('Fitness', '3'), ('Income', '48891'), ('Miles', '75')])\n",
      "OrderedDict([('Product', 'TM195'), ('Age', '25'), ('Gender', 'Male'), ('Education', '14'), ('MaritalStatus', 'Partnered'), ('Usage', '2'), ('Fitness', '3'), ('Income', '45480'), ('Miles', '56')])\n",
      "OrderedDict([('Product', 'TM195'), ('Age', '25'), ('Gender', 'Female'), ('Education', '14'), ('MaritalStatus', 'Partnered'), ('Usage', '2'), ('Fitness', '2'), ('Income', '53439'), ('Miles', '47')])\n",
      "OrderedDict([('Product', 'TM195'), ('Age', '25'), ('Gender', 'Female'), ('Education', '14'), ('MaritalStatus', 'Partnered'), ('Usage', '3'), ('Fitness', '3'), ('Income', '39795'), ('Miles', '85')])\n",
      "OrderedDict([('Product', 'TM195'), ('Age', '25'), ('Gender', 'Male'), ('Education', '16'), ('MaritalStatus', 'Single'), ('Usage', '3'), ('Fitness', '4'), ('Income', '40932'), ('Miles', '113')])\n",
      "OrderedDict([('Product', 'TM195'), ('Age', '25'), ('Gender', 'Female'), ('Education', '16'), ('MaritalStatus', 'Partnered'), ('Usage', '2'), ('Fitness', '2'), ('Income', '40932'), ('Miles', '47')])\n",
      "OrderedDict([('Product', 'TM195'), ('Age', '25'), ('Gender', 'Male'), ('Education', '16'), ('MaritalStatus', 'Single'), ('Usage', '3'), ('Fitness', '3'), ('Income', '43206'), ('Miles', '85')])\n",
      "OrderedDict([('Product', 'TM195'), ('Age', '26'), ('Gender', 'Female'), ('Education', '14'), ('MaritalStatus', 'Partnered'), ('Usage', '3'), ('Fitness', '4'), ('Income', '44343'), ('Miles', '113')])\n",
      "OrderedDict([('Product', 'TM195'), ('Age', '26'), ('Gender', 'Female'), ('Education', '16'), ('MaritalStatus', 'Partnered'), ('Usage', '4'), ('Fitness', '3'), ('Income', '52302'), ('Miles', '113')])\n",
      "OrderedDict([('Product', 'TM195'), ('Age', '26'), ('Gender', 'Male'), ('Education', '16'), ('MaritalStatus', 'Partnered'), ('Usage', '2'), ('Fitness', '2'), ('Income', '53439'), ('Miles', '47')])\n",
      "OrderedDict([('Product', 'TM195'), ('Age', '26'), ('Gender', 'Male'), ('Education', '16'), ('MaritalStatus', 'Partnered'), ('Usage', '3'), ('Fitness', '3'), ('Income', '51165'), ('Miles', '85')])\n",
      "OrderedDict([('Product', 'TM195'), ('Age', '26'), ('Gender', 'Female'), ('Education', '16'), ('MaritalStatus', 'Single'), ('Usage', '3'), ('Fitness', '3'), ('Income', '36384'), ('Miles', '66')])\n",
      "OrderedDict([('Product', 'TM195'), ('Age', '26'), ('Gender', 'Male'), ('Education', '16'), ('MaritalStatus', 'Partnered'), ('Usage', '4'), ('Fitness', '4'), ('Income', '44343'), ('Miles', '132')])\n",
      "OrderedDict([('Product', 'TM195'), ('Age', '26'), ('Gender', 'Male'), ('Education', '16'), ('MaritalStatus', 'Single'), ('Usage', '3'), ('Fitness', '3'), ('Income', '50028'), ('Miles', '85')])\n",
      "OrderedDict([('Product', 'TM195'), ('Age', '27'), ('Gender', 'Female'), ('Education', '14'), ('MaritalStatus', 'Partnered'), ('Usage', '3'), ('Fitness', '2'), ('Income', '45480'), ('Miles', '66')])\n",
      "OrderedDict([('Product', 'TM195'), ('Age', '27'), ('Gender', 'Male'), ('Education', '16'), ('MaritalStatus', 'Single'), ('Usage', '4'), ('Fitness', '3'), ('Income', '54576'), ('Miles', '85')])\n",
      "OrderedDict([('Product', 'TM195'), ('Age', '27'), ('Gender', 'Female'), ('Education', '14'), ('MaritalStatus', 'Partnered'), ('Usage', '2'), ('Fitness', '3'), ('Income', '45480'), ('Miles', '56')])\n",
      "OrderedDict([('Product', 'TM195'), ('Age', '28'), ('Gender', 'Female'), ('Education', '14'), ('MaritalStatus', 'Partnered'), ('Usage', '2'), ('Fitness', '3'), ('Income', '46617'), ('Miles', '56')])\n",
      "OrderedDict([('Product', 'TM195'), ('Age', '28'), ('Gender', 'Female'), ('Education', '16'), ('MaritalStatus', 'Partnered'), ('Usage', '2'), ('Fitness', '3'), ('Income', '52302'), ('Miles', '66')])\n",
      "OrderedDict([('Product', 'TM195'), ('Age', '28'), ('Gender', 'Male'), ('Education', '14'), ('MaritalStatus', 'Single'), ('Usage', '3'), ('Fitness', '3'), ('Income', '52302'), ('Miles', '103')])\n",
      "OrderedDict([('Product', 'TM195'), ('Age', '28'), ('Gender', 'Female'), ('Education', '14'), ('MaritalStatus', 'Partnered'), ('Usage', '3'), ('Fitness', '3'), ('Income', '54576'), ('Miles', '94')])\n",
      "OrderedDict([('Product', 'TM195'), ('Age', '28'), ('Gender', 'Male'), ('Education', '14'), ('MaritalStatus', 'Single'), ('Usage', '4'), ('Fitness', '3'), ('Income', '54576'), ('Miles', '113')])\n",
      "OrderedDict([('Product', 'TM195'), ('Age', '28'), ('Gender', 'Female'), ('Education', '16'), ('MaritalStatus', 'Partnered'), ('Usage', '3'), ('Fitness', '3'), ('Income', '51165'), ('Miles', '56')])\n",
      "OrderedDict([('Product', 'TM195'), ('Age', '29'), ('Gender', 'Male'), ('Education', '18'), ('MaritalStatus', 'Partnered'), ('Usage', '3'), ('Fitness', '3'), ('Income', '68220'), ('Miles', '85')])\n",
      "OrderedDict([('Product', 'TM195'), ('Age', '29'), ('Gender', 'Female'), ('Education', '14'), ('MaritalStatus', 'Partnered'), ('Usage', '2'), ('Fitness', '2'), ('Income', '46617'), ('Miles', '38')])\n",
      "OrderedDict([('Product', 'TM195'), ('Age', '29'), ('Gender', 'Female'), ('Education', '16'), ('MaritalStatus', 'Partnered'), ('Usage', '4'), ('Fitness', '3'), ('Income', '50028'), ('Miles', '94')])\n",
      "OrderedDict([('Product', 'TM195'), ('Age', '30'), ('Gender', 'Male'), ('Education', '14'), ('MaritalStatus', 'Partnered'), ('Usage', '4'), ('Fitness', '4'), ('Income', '46617'), ('Miles', '141')])\n",
      "OrderedDict([('Product', 'TM195'), ('Age', '30'), ('Gender', 'Male'), ('Education', '14'), ('MaritalStatus', 'Single'), ('Usage', '3'), ('Fitness', '3'), ('Income', '54576'), ('Miles', '85')])\n",
      "OrderedDict([('Product', 'TM195'), ('Age', '31'), ('Gender', 'Male'), ('Education', '14'), ('MaritalStatus', 'Partnered'), ('Usage', '2'), ('Fitness', '2'), ('Income', '54576'), ('Miles', '47')])\n",
      "OrderedDict([('Product', 'TM195'), ('Age', '31'), ('Gender', 'Female'), ('Education', '14'), ('MaritalStatus', 'Single'), ('Usage', '2'), ('Fitness', '2'), ('Income', '45480'), ('Miles', '47')])\n",
      "OrderedDict([('Product', 'TM195'), ('Age', '32'), ('Gender', 'Female'), ('Education', '14'), ('MaritalStatus', 'Single'), ('Usage', '3'), ('Fitness', '4'), ('Income', '46617'), ('Miles', '113')])\n",
      "OrderedDict([('Product', 'TM195'), ('Age', '32'), ('Gender', 'Male'), ('Education', '14'), ('MaritalStatus', 'Partnered'), ('Usage', '4'), ('Fitness', '3'), ('Income', '52302'), ('Miles', '85')])\n",
      "OrderedDict([('Product', 'TM195'), ('Age', '33'), ('Gender', 'Female'), ('Education', '16'), ('MaritalStatus', 'Single'), ('Usage', '2'), ('Fitness', '2'), ('Income', '55713'), ('Miles', '38')])\n",
      "OrderedDict([('Product', 'TM195'), ('Age', '33'), ('Gender', 'Female'), ('Education', '16'), ('MaritalStatus', 'Partnered'), ('Usage', '3'), ('Fitness', '3'), ('Income', '46617'), ('Miles', '85')])\n",
      "OrderedDict([('Product', 'TM195'), ('Age', '34'), ('Gender', 'Male'), ('Education', '16'), ('MaritalStatus', 'Single'), ('Usage', '4'), ('Fitness', '5'), ('Income', '51165'), ('Miles', '169')])\n",
      "OrderedDict([('Product', 'TM195'), ('Age', '34'), ('Gender', 'Female'), ('Education', '16'), ('MaritalStatus', 'Single'), ('Usage', '2'), ('Fitness', '2'), ('Income', '52302'), ('Miles', '66')])\n",
      "OrderedDict([('Product', 'TM195'), ('Age', '35'), ('Gender', 'Male'), ('Education', '16'), ('MaritalStatus', 'Partnered'), ('Usage', '4'), ('Fitness', '3'), ('Income', '48891'), ('Miles', '85')])\n",
      "OrderedDict([('Product', 'TM195'), ('Age', '35'), ('Gender', 'Female'), ('Education', '16'), ('MaritalStatus', 'Partnered'), ('Usage', '3'), ('Fitness', '3'), ('Income', '60261'), ('Miles', '94')])\n",
      "OrderedDict([('Product', 'TM195'), ('Age', '35'), ('Gender', 'Female'), ('Education', '18'), ('MaritalStatus', 'Single'), ('Usage', '3'), ('Fitness', '3'), ('Income', '67083'), ('Miles', '85')])\n",
      "OrderedDict([('Product', 'TM195'), ('Age', '36'), ('Gender', 'Male'), ('Education', '12'), ('MaritalStatus', 'Single'), ('Usage', '4'), ('Fitness', '3'), ('Income', '44343'), ('Miles', '94')])\n",
      "OrderedDict([('Product', 'TM195'), ('Age', '37'), ('Gender', 'Female'), ('Education', '16'), ('MaritalStatus', 'Partnered'), ('Usage', '3'), ('Fitness', '3'), ('Income', '37521'), ('Miles', '85')])\n",
      "OrderedDict([('Product', 'TM195'), ('Age', '38'), ('Gender', 'Male'), ('Education', '16'), ('MaritalStatus', 'Partnered'), ('Usage', '3'), ('Fitness', '3'), ('Income', '46617'), ('Miles', '75')])\n",
      "OrderedDict([('Product', 'TM195'), ('Age', '38'), ('Gender', 'Female'), ('Education', '14'), ('MaritalStatus', 'Partnered'), ('Usage', '2'), ('Fitness', '3'), ('Income', '54576'), ('Miles', '56')])\n",
      "OrderedDict([('Product', 'TM195'), ('Age', '38'), ('Gender', 'Male'), ('Education', '14'), ('MaritalStatus', 'Single'), ('Usage', '2'), ('Fitness', '3'), ('Income', '52302'), ('Miles', '56')])\n",
      "OrderedDict([('Product', 'TM195'), ('Age', '38'), ('Gender', 'Male'), ('Education', '16'), ('MaritalStatus', 'Partnered'), ('Usage', '3'), ('Fitness', '3'), ('Income', '56850'), ('Miles', '75')])\n",
      "OrderedDict([('Product', 'TM195'), ('Age', '39'), ('Gender', 'Male'), ('Education', '16'), ('MaritalStatus', 'Partnered'), ('Usage', '4'), ('Fitness', '4'), ('Income', '59124'), ('Miles', '132')])\n",
      "OrderedDict([('Product', 'TM195'), ('Age', '40'), ('Gender', 'Male'), ('Education', '16'), ('MaritalStatus', 'Partnered'), ('Usage', '3'), ('Fitness', '3'), ('Income', '61398'), ('Miles', '66')])\n",
      "OrderedDict([('Product', 'TM195'), ('Age', '41'), ('Gender', 'Male'), ('Education', '16'), ('MaritalStatus', 'Partnered'), ('Usage', '4'), ('Fitness', '3'), ('Income', '54576'), ('Miles', '103')])\n",
      "OrderedDict([('Product', 'TM195'), ('Age', '43'), ('Gender', 'Male'), ('Education', '16'), ('MaritalStatus', 'Partnered'), ('Usage', '3'), ('Fitness', '3'), ('Income', '53439'), ('Miles', '66')])\n",
      "OrderedDict([('Product', 'TM195'), ('Age', '44'), ('Gender', 'Female'), ('Education', '16'), ('MaritalStatus', 'Single'), ('Usage', '3'), ('Fitness', '4'), ('Income', '57987'), ('Miles', '75')])\n",
      "OrderedDict([('Product', 'TM195'), ('Age', '46'), ('Gender', 'Female'), ('Education', '16'), ('MaritalStatus', 'Partnered'), ('Usage', '3'), ('Fitness', '2'), ('Income', '60261'), ('Miles', '47')])\n",
      "OrderedDict([('Product', 'TM195'), ('Age', '47'), ('Gender', 'Male'), ('Education', '16'), ('MaritalStatus', 'Partnered'), ('Usage', '4'), ('Fitness', '3'), ('Income', '56850'), ('Miles', '94')])\n",
      "OrderedDict([('Product', 'TM195'), ('Age', '50'), ('Gender', 'Female'), ('Education', '16'), ('MaritalStatus', 'Partnered'), ('Usage', '3'), ('Fitness', '3'), ('Income', '64809'), ('Miles', '66')])\n",
      "OrderedDict([('Product', 'TM498'), ('Age', '19'), ('Gender', 'Male'), ('Education', '14'), ('MaritalStatus', 'Single'), ('Usage', '3'), ('Fitness', '3'), ('Income', '31836'), ('Miles', '64')])\n",
      "OrderedDict([('Product', 'TM498'), ('Age', '20'), ('Gender', 'Male'), ('Education', '14'), ('MaritalStatus', 'Single'), ('Usage', '2'), ('Fitness', '3'), ('Income', '32973'), ('Miles', '53')])\n",
      "OrderedDict([('Product', 'TM498'), ('Age', '20'), ('Gender', 'Female'), ('Education', '14'), ('MaritalStatus', 'Partnered'), ('Usage', '3'), ('Fitness', '3'), ('Income', '34110'), ('Miles', '106')])\n",
      "OrderedDict([('Product', 'TM498'), ('Age', '20'), ('Gender', 'Male'), ('Education', '14'), ('MaritalStatus', 'Single'), ('Usage', '3'), ('Fitness', '3'), ('Income', '38658'), ('Miles', '95')])\n",
      "OrderedDict([('Product', 'TM498'), ('Age', '21'), ('Gender', 'Female'), ('Education', '14'), ('MaritalStatus', 'Partnered'), ('Usage', '5'), ('Fitness', '4'), ('Income', '34110'), ('Miles', '212')])\n",
      "OrderedDict([('Product', 'TM498'), ('Age', '21'), ('Gender', 'Male'), ('Education', '16'), ('MaritalStatus', 'Partnered'), ('Usage', '2'), ('Fitness', '2'), ('Income', '34110'), ('Miles', '42')])\n",
      "OrderedDict([('Product', 'TM498'), ('Age', '21'), ('Gender', 'Male'), ('Education', '12'), ('MaritalStatus', 'Partnered'), ('Usage', '2'), ('Fitness', '2'), ('Income', '32973'), ('Miles', '53')])\n",
      "OrderedDict([('Product', 'TM498'), ('Age', '23'), ('Gender', 'Male'), ('Education', '14'), ('MaritalStatus', 'Partnered'), ('Usage', '3'), ('Fitness', '3'), ('Income', '36384'), ('Miles', '95')])\n",
      "OrderedDict([('Product', 'TM498'), ('Age', '23'), ('Gender', 'Male'), ('Education', '14'), ('MaritalStatus', 'Partnered'), ('Usage', '3'), ('Fitness', '3'), ('Income', '38658'), ('Miles', '85')])\n",
      "OrderedDict([('Product', 'TM498'), ('Age', '23'), ('Gender', 'Female'), ('Education', '16'), ('MaritalStatus', 'Single'), ('Usage', '3'), ('Fitness', '3'), ('Income', '45480'), ('Miles', '95')])\n",
      "OrderedDict([('Product', 'TM498'), ('Age', '23'), ('Gender', 'Male'), ('Education', '16'), ('MaritalStatus', 'Partnered'), ('Usage', '4'), ('Fitness', '3'), ('Income', '45480'), ('Miles', '127')])\n",
      "OrderedDict([('Product', 'TM498'), ('Age', '23'), ('Gender', 'Female'), ('Education', '16'), ('MaritalStatus', 'Partnered'), ('Usage', '3'), ('Fitness', '2'), ('Income', '43206'), ('Miles', '74')])\n",
      "OrderedDict([('Product', 'TM498'), ('Age', '23'), ('Gender', 'Female'), ('Education', '14'), ('MaritalStatus', 'Single'), ('Usage', '3'), ('Fitness', '2'), ('Income', '40932'), ('Miles', '53')])\n",
      "OrderedDict([('Product', 'TM498'), ('Age', '23'), ('Gender', 'Male'), ('Education', '16'), ('MaritalStatus', 'Partnered'), ('Usage', '3'), ('Fitness', '3'), ('Income', '45480'), ('Miles', '64')])\n",
      "OrderedDict([('Product', 'TM498'), ('Age', '24'), ('Gender', 'Female'), ('Education', '14'), ('MaritalStatus', 'Single'), ('Usage', '3'), ('Fitness', '2'), ('Income', '40932'), ('Miles', '85')])\n",
      "OrderedDict([('Product', 'TM498'), ('Age', '24'), ('Gender', 'Male'), ('Education', '14'), ('MaritalStatus', 'Single'), ('Usage', '3'), ('Fitness', '4'), ('Income', '48891'), ('Miles', '106')])\n",
      "OrderedDict([('Product', 'TM498'), ('Age', '24'), ('Gender', 'Female'), ('Education', '16'), ('MaritalStatus', 'Single'), ('Usage', '3'), ('Fitness', '3'), ('Income', '50028'), ('Miles', '106')])\n",
      "OrderedDict([('Product', 'TM498'), ('Age', '25'), ('Gender', 'Female'), ('Education', '14'), ('MaritalStatus', 'Partnered'), ('Usage', '2'), ('Fitness', '3'), ('Income', '45480'), ('Miles', '85')])\n",
      "OrderedDict([('Product', 'TM498'), ('Age', '25'), ('Gender', 'Female'), ('Education', '14'), ('MaritalStatus', 'Single'), ('Usage', '3'), ('Fitness', '4'), ('Income', '43206'), ('Miles', '127')])\n",
      "OrderedDict([('Product', 'TM498'), ('Age', '25'), ('Gender', 'Male'), ('Education', '16'), ('MaritalStatus', 'Partnered'), ('Usage', '2'), ('Fitness', '2'), ('Income', '52302'), ('Miles', '42')])\n",
      "OrderedDict([('Product', 'TM498'), ('Age', '25'), ('Gender', 'Female'), ('Education', '14'), ('MaritalStatus', 'Partnered'), ('Usage', '5'), ('Fitness', '3'), ('Income', '47754'), ('Miles', '106')])\n",
      "OrderedDict([('Product', 'TM498'), ('Age', '25'), ('Gender', 'Male'), ('Education', '14'), ('MaritalStatus', 'Single'), ('Usage', '3'), ('Fitness', '3'), ('Income', '45480'), ('Miles', '95')])\n",
      "OrderedDict([('Product', 'TM498'), ('Age', '25'), ('Gender', 'Female'), ('Education', '14'), ('MaritalStatus', 'Single'), ('Usage', '2'), ('Fitness', '3'), ('Income', '43206'), ('Miles', '64')])\n",
      "OrderedDict([('Product', 'TM498'), ('Age', '25'), ('Gender', 'Male'), ('Education', '14'), ('MaritalStatus', 'Partnered'), ('Usage', '4'), ('Fitness', '3'), ('Income', '45480'), ('Miles', '170')])\n",
      "OrderedDict([('Product', 'TM498'), ('Age', '25'), ('Gender', 'Male'), ('Education', '14'), ('MaritalStatus', 'Partnered'), ('Usage', '3'), ('Fitness', '4'), ('Income', '43206'), ('Miles', '106')])\n",
      "OrderedDict([('Product', 'TM498'), ('Age', '25'), ('Gender', 'Male'), ('Education', '16'), ('MaritalStatus', 'Partnered'), ('Usage', '2'), ('Fitness', '3'), ('Income', '50028'), ('Miles', '53')])\n",
      "OrderedDict([('Product', 'TM498'), ('Age', '25'), ('Gender', 'Female'), ('Education', '14'), ('MaritalStatus', 'Single'), ('Usage', '2'), ('Fitness', '2'), ('Income', '45480'), ('Miles', '42')])\n",
      "OrderedDict([('Product', 'TM498'), ('Age', '25'), ('Gender', 'Male'), ('Education', '14'), ('MaritalStatus', 'Single'), ('Usage', '4'), ('Fitness', '3'), ('Income', '48891'), ('Miles', '127')])\n",
      "OrderedDict([('Product', 'TM498'), ('Age', '26'), ('Gender', 'Female'), ('Education', '16'), ('MaritalStatus', 'Partnered'), ('Usage', '4'), ('Fitness', '3'), ('Income', '45480'), ('Miles', '85')])\n",
      "OrderedDict([('Product', 'TM498'), ('Age', '26'), ('Gender', 'Female'), ('Education', '16'), ('MaritalStatus', 'Single'), ('Usage', '4'), ('Fitness', '4'), ('Income', '50028'), ('Miles', '127')])\n",
      "OrderedDict([('Product', 'TM498'), ('Age', '26'), ('Gender', 'Male'), ('Education', '16'), ('MaritalStatus', 'Single'), ('Usage', '4'), ('Fitness', '3'), ('Income', '51165'), ('Miles', '106')])\n",
      "OrderedDict([('Product', 'TM498'), ('Age', '27'), ('Gender', 'Male'), ('Education', '14'), ('MaritalStatus', 'Single'), ('Usage', '4'), ('Fitness', '2'), ('Income', '45480'), ('Miles', '53')])\n",
      "OrderedDict([('Product', 'TM498'), ('Age', '29'), ('Gender', 'Female'), ('Education', '14'), ('MaritalStatus', 'Partnered'), ('Usage', '3'), ('Fitness', '3'), ('Income', '51165'), ('Miles', '95')])\n",
      "OrderedDict([('Product', 'TM498'), ('Age', '30'), ('Gender', 'Female'), ('Education', '14'), ('MaritalStatus', 'Single'), ('Usage', '3'), ('Fitness', '3'), ('Income', '57987'), ('Miles', '74')])\n",
      "OrderedDict([('Product', 'TM498'), ('Age', '30'), ('Gender', 'Female'), ('Education', '13'), ('MaritalStatus', 'Single'), ('Usage', '4'), ('Fitness', '3'), ('Income', '46617'), ('Miles', '106')])\n",
      "OrderedDict([('Product', 'TM498'), ('Age', '31'), ('Gender', 'Male'), ('Education', '16'), ('MaritalStatus', 'Partnered'), ('Usage', '3'), ('Fitness', '3'), ('Income', '52302'), ('Miles', '95')])\n",
      "OrderedDict([('Product', 'TM498'), ('Age', '31'), ('Gender', 'Female'), ('Education', '16'), ('MaritalStatus', 'Partnered'), ('Usage', '2'), ('Fitness', '3'), ('Income', '51165'), ('Miles', '64')])\n",
      "OrderedDict([('Product', 'TM498'), ('Age', '31'), ('Gender', 'Female'), ('Education', '18'), ('MaritalStatus', 'Single'), ('Usage', '2'), ('Fitness', '1'), ('Income', '65220'), ('Miles', '21')])\n",
      "OrderedDict([('Product', 'TM498'), ('Age', '32'), ('Gender', 'Male'), ('Education', '16'), ('MaritalStatus', 'Single'), ('Usage', '4'), ('Fitness', '3'), ('Income', '60261'), ('Miles', '127')])\n",
      "OrderedDict([('Product', 'TM498'), ('Age', '32'), ('Gender', 'Male'), ('Education', '16'), ('MaritalStatus', 'Partnered'), ('Usage', '3'), ('Fitness', '3'), ('Income', '53439'), ('Miles', '95')])\n",
      "OrderedDict([('Product', 'TM498'), ('Age', '33'), ('Gender', 'Male'), ('Education', '13'), ('MaritalStatus', 'Partnered'), ('Usage', '4'), ('Fitness', '4'), ('Income', '53439'), ('Miles', '170')])\n",
      "OrderedDict([('Product', 'TM498'), ('Age', '33'), ('Gender', 'Female'), ('Education', '16'), ('MaritalStatus', 'Partnered'), ('Usage', '2'), ('Fitness', '3'), ('Income', '50028'), ('Miles', '85')])\n",
      "OrderedDict([('Product', 'TM498'), ('Age', '33'), ('Gender', 'Male'), ('Education', '16'), ('MaritalStatus', 'Partnered'), ('Usage', '3'), ('Fitness', '3'), ('Income', '51165'), ('Miles', '95')])\n",
      "OrderedDict([('Product', 'TM498'), ('Age', '33'), ('Gender', 'Female'), ('Education', '16'), ('MaritalStatus', 'Partnered'), ('Usage', '5'), ('Fitness', '3'), ('Income', '53439'), ('Miles', '95')])\n",
      "OrderedDict([('Product', 'TM498'), ('Age', '33'), ('Gender', 'Female'), ('Education', '18'), ('MaritalStatus', 'Single'), ('Usage', '3'), ('Fitness', '4'), ('Income', '47754'), ('Miles', '74')])\n",
      "OrderedDict([('Product', 'TM498'), ('Age', '34'), ('Gender', 'Female'), ('Education', '16'), ('MaritalStatus', 'Partnered'), ('Usage', '4'), ('Fitness', '3'), ('Income', '64809'), ('Miles', '95')])\n",
      "OrderedDict([('Product', 'TM498'), ('Age', '34'), ('Gender', 'Male'), ('Education', '16'), ('MaritalStatus', 'Partnered'), ('Usage', '3'), ('Fitness', '4'), ('Income', '59124'), ('Miles', '85')])\n",
      "OrderedDict([('Product', 'TM498'), ('Age', '34'), ('Gender', 'Male'), ('Education', '15'), ('MaritalStatus', 'Single'), ('Usage', '3'), ('Fitness', '3'), ('Income', '67083'), ('Miles', '85')])\n",
      "OrderedDict([('Product', 'TM498'), ('Age', '35'), ('Gender', 'Female'), ('Education', '14'), ('MaritalStatus', 'Partnered'), ('Usage', '3'), ('Fitness', '2'), ('Income', '52302'), ('Miles', '53')])\n",
      "OrderedDict([('Product', 'TM498'), ('Age', '35'), ('Gender', 'Male'), ('Education', '16'), ('MaritalStatus', 'Partnered'), ('Usage', '3'), ('Fitness', '2'), ('Income', '53439'), ('Miles', '53')])\n",
      "OrderedDict([('Product', 'TM498'), ('Age', '35'), ('Gender', 'Female'), ('Education', '16'), ('MaritalStatus', 'Single'), ('Usage', '3'), ('Fitness', '2'), ('Income', '50028'), ('Miles', '64')])\n",
      "OrderedDict([('Product', 'TM498'), ('Age', '35'), ('Gender', 'Male'), ('Education', '16'), ('MaritalStatus', 'Partnered'), ('Usage', '3'), ('Fitness', '3'), ('Income', '53439'), ('Miles', '95')])\n",
      "OrderedDict([('Product', 'TM498'), ('Age', '37'), ('Gender', 'Female'), ('Education', '16'), ('MaritalStatus', 'Partnered'), ('Usage', '2'), ('Fitness', '3'), ('Income', '48891'), ('Miles', '85')])\n",
      "OrderedDict([('Product', 'TM498'), ('Age', '38'), ('Gender', 'Female'), ('Education', '16'), ('MaritalStatus', 'Partnered'), ('Usage', '4'), ('Fitness', '3'), ('Income', '62535'), ('Miles', '85')])\n",
      "OrderedDict([('Product', 'TM498'), ('Age', '38'), ('Gender', 'Male'), ('Education', '16'), ('MaritalStatus', 'Partnered'), ('Usage', '3'), ('Fitness', '3'), ('Income', '59124'), ('Miles', '106')])\n",
      "OrderedDict([('Product', 'TM498'), ('Age', '40'), ('Gender', 'Female'), ('Education', '16'), ('MaritalStatus', 'Partnered'), ('Usage', '3'), ('Fitness', '3'), ('Income', '61398'), ('Miles', '85')])\n",
      "OrderedDict([('Product', 'TM498'), ('Age', '40'), ('Gender', 'Female'), ('Education', '16'), ('MaritalStatus', 'Single'), ('Usage', '3'), ('Fitness', '3'), ('Income', '57987'), ('Miles', '85')])\n",
      "OrderedDict([('Product', 'TM498'), ('Age', '40'), ('Gender', 'Male'), ('Education', '16'), ('MaritalStatus', 'Partnered'), ('Usage', '3'), ('Fitness', '3'), ('Income', '64809'), ('Miles', '95')])\n",
      "OrderedDict([('Product', 'TM498'), ('Age', '45'), ('Gender', 'Male'), ('Education', '16'), ('MaritalStatus', 'Partnered'), ('Usage', '2'), ('Fitness', '2'), ('Income', '54576'), ('Miles', '42')])\n",
      "OrderedDict([('Product', 'TM498'), ('Age', '48'), ('Gender', 'Male'), ('Education', '16'), ('MaritalStatus', 'Partnered'), ('Usage', '2'), ('Fitness', '3'), ('Income', '57987'), ('Miles', '64')])\n",
      "OrderedDict([('Product', 'TM798'), ('Age', '22'), ('Gender', 'Male'), ('Education', '14'), ('MaritalStatus', 'Single'), ('Usage', '4'), ('Fitness', '3'), ('Income', '48658'), ('Miles', '106')])\n",
      "OrderedDict([('Product', 'TM798'), ('Age', '22'), ('Gender', 'Male'), ('Education', '16'), ('MaritalStatus', 'Single'), ('Usage', '3'), ('Fitness', '5'), ('Income', '54781'), ('Miles', '120')])\n",
      "OrderedDict([('Product', 'TM798'), ('Age', '22'), ('Gender', 'Male'), ('Education', '18'), ('MaritalStatus', 'Single'), ('Usage', '4'), ('Fitness', '5'), ('Income', '48556'), ('Miles', '200')])\n",
      "OrderedDict([('Product', 'TM798'), ('Age', '23'), ('Gender', 'Male'), ('Education', '16'), ('MaritalStatus', 'Single'), ('Usage', '4'), ('Fitness', '5'), ('Income', '58516'), ('Miles', '140')])\n",
      "OrderedDict([('Product', 'TM798'), ('Age', '23'), ('Gender', 'Female'), ('Education', '18'), ('MaritalStatus', 'Single'), ('Usage', '5'), ('Fitness', '4'), ('Income', '53536'), ('Miles', '100')])\n",
      "OrderedDict([('Product', 'TM798'), ('Age', '23'), ('Gender', 'Male'), ('Education', '16'), ('MaritalStatus', 'Single'), ('Usage', '4'), ('Fitness', '5'), ('Income', '48556'), ('Miles', '100')])\n",
      "OrderedDict([('Product', 'TM798'), ('Age', '24'), ('Gender', 'Male'), ('Education', '16'), ('MaritalStatus', 'Single'), ('Usage', '4'), ('Fitness', '5'), ('Income', '61006'), ('Miles', '100')])\n",
      "OrderedDict([('Product', 'TM798'), ('Age', '24'), ('Gender', 'Male'), ('Education', '18'), ('MaritalStatus', 'Partnered'), ('Usage', '4'), ('Fitness', '5'), ('Income', '57271'), ('Miles', '80')])\n",
      "OrderedDict([('Product', 'TM798'), ('Age', '24'), ('Gender', 'Female'), ('Education', '16'), ('MaritalStatus', 'Single'), ('Usage', '5'), ('Fitness', '5'), ('Income', '52291'), ('Miles', '200')])\n",
      "OrderedDict([('Product', 'TM798'), ('Age', '24'), ('Gender', 'Male'), ('Education', '16'), ('MaritalStatus', 'Single'), ('Usage', '5'), ('Fitness', '5'), ('Income', '49801'), ('Miles', '160')])\n",
      "OrderedDict([('Product', 'TM798'), ('Age', '25'), ('Gender', 'Male'), ('Education', '16'), ('MaritalStatus', 'Partnered'), ('Usage', '4'), ('Fitness', '5'), ('Income', '49801'), ('Miles', '120')])\n",
      "OrderedDict([('Product', 'TM798'), ('Age', '25'), ('Gender', 'Male'), ('Education', '16'), ('MaritalStatus', 'Partnered'), ('Usage', '4'), ('Fitness', '4'), ('Income', '62251'), ('Miles', '160')])\n",
      "OrderedDict([('Product', 'TM798'), ('Age', '25'), ('Gender', 'Female'), ('Education', '18'), ('MaritalStatus', 'Partnered'), ('Usage', '5'), ('Fitness', '5'), ('Income', '61006'), ('Miles', '200')])\n",
      "OrderedDict([('Product', 'TM798'), ('Age', '25'), ('Gender', 'Male'), ('Education', '18'), ('MaritalStatus', 'Partnered'), ('Usage', '4'), ('Fitness', '3'), ('Income', '64741'), ('Miles', '100')])\n",
      "OrderedDict([('Product', 'TM798'), ('Age', '25'), ('Gender', 'Male'), ('Education', '18'), ('MaritalStatus', 'Partnered'), ('Usage', '6'), ('Fitness', '4'), ('Income', '70966'), ('Miles', '180')])\n",
      "OrderedDict([('Product', 'TM798'), ('Age', '25'), ('Gender', 'Male'), ('Education', '18'), ('MaritalStatus', 'Partnered'), ('Usage', '6'), ('Fitness', '5'), ('Income', '75946'), ('Miles', '240')])\n",
      "OrderedDict([('Product', 'TM798'), ('Age', '25'), ('Gender', 'Male'), ('Education', '20'), ('MaritalStatus', 'Partnered'), ('Usage', '4'), ('Fitness', '5'), ('Income', '74701'), ('Miles', '170')])\n",
      "OrderedDict([('Product', 'TM798'), ('Age', '26'), ('Gender', 'Female'), ('Education', '21'), ('MaritalStatus', 'Single'), ('Usage', '4'), ('Fitness', '3'), ('Income', '69721'), ('Miles', '100')])\n",
      "OrderedDict([('Product', 'TM798'), ('Age', '26'), ('Gender', 'Male'), ('Education', '16'), ('MaritalStatus', 'Partnered'), ('Usage', '5'), ('Fitness', '4'), ('Income', '64741'), ('Miles', '180')])\n",
      "OrderedDict([('Product', 'TM798'), ('Age', '27'), ('Gender', 'Male'), ('Education', '16'), ('MaritalStatus', 'Partnered'), ('Usage', '4'), ('Fitness', '5'), ('Income', '83416'), ('Miles', '160')])\n",
      "OrderedDict([('Product', 'TM798'), ('Age', '27'), ('Gender', 'Male'), ('Education', '18'), ('MaritalStatus', 'Single'), ('Usage', '4'), ('Fitness', '3'), ('Income', '88396'), ('Miles', '100')])\n",
      "OrderedDict([('Product', 'TM798'), ('Age', '27'), ('Gender', 'Male'), ('Education', '21'), ('MaritalStatus', 'Partnered'), ('Usage', '4'), ('Fitness', '4'), ('Income', '90886'), ('Miles', '100')])\n",
      "OrderedDict([('Product', 'TM798'), ('Age', '28'), ('Gender', 'Female'), ('Education', '18'), ('MaritalStatus', 'Partnered'), ('Usage', '6'), ('Fitness', '5'), ('Income', '92131'), ('Miles', '180')])\n",
      "OrderedDict([('Product', 'TM798'), ('Age', '28'), ('Gender', 'Male'), ('Education', '18'), ('MaritalStatus', 'Partnered'), ('Usage', '7'), ('Fitness', '5'), ('Income', '77191'), ('Miles', '180')])\n",
      "OrderedDict([('Product', 'TM798'), ('Age', '28'), ('Gender', 'Male'), ('Education', '18'), ('MaritalStatus', 'Single'), ('Usage', '6'), ('Fitness', '5'), ('Income', '88396'), ('Miles', '150')])\n",
      "OrderedDict([('Product', 'TM798'), ('Age', '29'), ('Gender', 'Male'), ('Education', '18'), ('MaritalStatus', 'Single'), ('Usage', '5'), ('Fitness', '5'), ('Income', '52290'), ('Miles', '180')])\n",
      "OrderedDict([('Product', 'TM798'), ('Age', '29'), ('Gender', 'Male'), ('Education', '14'), ('MaritalStatus', 'Partnered'), ('Usage', '7'), ('Fitness', '5'), ('Income', '85906'), ('Miles', '300')])\n",
      "OrderedDict([('Product', 'TM798'), ('Age', '30'), ('Gender', 'Female'), ('Education', '16'), ('MaritalStatus', 'Partnered'), ('Usage', '6'), ('Fitness', '5'), ('Income', '90886'), ('Miles', '280')])\n",
      "OrderedDict([('Product', 'TM798'), ('Age', '30'), ('Gender', 'Male'), ('Education', '18'), ('MaritalStatus', 'Partnered'), ('Usage', '5'), ('Fitness', '4'), ('Income', '103336'), ('Miles', '160')])\n",
      "OrderedDict([('Product', 'TM798'), ('Age', '30'), ('Gender', 'Male'), ('Education', '18'), ('MaritalStatus', 'Partnered'), ('Usage', '5'), ('Fitness', '5'), ('Income', '99601'), ('Miles', '150')])\n",
      "OrderedDict([('Product', 'TM798'), ('Age', '31'), ('Gender', 'Male'), ('Education', '16'), ('MaritalStatus', 'Partnered'), ('Usage', '6'), ('Fitness', '5'), ('Income', '89641'), ('Miles', '260')])\n",
      "OrderedDict([('Product', 'TM798'), ('Age', '33'), ('Gender', 'Female'), ('Education', '18'), ('MaritalStatus', 'Partnered'), ('Usage', '4'), ('Fitness', '5'), ('Income', '95866'), ('Miles', '200')])\n",
      "OrderedDict([('Product', 'TM798'), ('Age', '34'), ('Gender', 'Male'), ('Education', '16'), ('MaritalStatus', 'Single'), ('Usage', '5'), ('Fitness', '5'), ('Income', '92131'), ('Miles', '150')])\n",
      "OrderedDict([('Product', 'TM798'), ('Age', '35'), ('Gender', 'Male'), ('Education', '16'), ('MaritalStatus', 'Partnered'), ('Usage', '4'), ('Fitness', '5'), ('Income', '92131'), ('Miles', '360')])\n",
      "OrderedDict([('Product', 'TM798'), ('Age', '38'), ('Gender', 'Male'), ('Education', '18'), ('MaritalStatus', 'Partnered'), ('Usage', '5'), ('Fitness', '5'), ('Income', '104581'), ('Miles', '150')])\n",
      "OrderedDict([('Product', 'TM798'), ('Age', '40'), ('Gender', 'Male'), ('Education', '21'), ('MaritalStatus', 'Single'), ('Usage', '6'), ('Fitness', '5'), ('Income', '83416'), ('Miles', '200')])\n",
      "OrderedDict([('Product', 'TM798'), ('Age', '42'), ('Gender', 'Male'), ('Education', '18'), ('MaritalStatus', 'Single'), ('Usage', '5'), ('Fitness', '4'), ('Income', '89641'), ('Miles', '200')])\n",
      "OrderedDict([('Product', 'TM798'), ('Age', '45'), ('Gender', 'Male'), ('Education', '16'), ('MaritalStatus', 'Single'), ('Usage', '5'), ('Fitness', '5'), ('Income', '90886'), ('Miles', '160')])\n",
      "OrderedDict([('Product', 'TM798'), ('Age', '47'), ('Gender', 'Male'), ('Education', '18'), ('MaritalStatus', 'Partnered'), ('Usage', '4'), ('Fitness', '5'), ('Income', '104581'), ('Miles', '120')])\n",
      "OrderedDict([('Product', 'TM798'), ('Age', '48'), ('Gender', 'Male'), ('Education', '18'), ('MaritalStatus', 'Partnered'), ('Usage', '4'), ('Fitness', '5'), ('Income', '95508'), ('Miles', '180')])\n"
     ]
    }
   ],
   "source": [
    "with open('/kaggle/input/cardiogoodfitness/CardioGoodFitness.csv') as csvfile:\n",
    "     reader = csv.DictReader(csvfile)\n",
    "     for row in reader:\n",
    "         print(row)"
   ]
  },
  {
   "cell_type": "code",
   "execution_count": 4,
   "metadata": {},
   "outputs": [],
   "source": [
    "fitness_title= pd.read_csv('/kaggle/input/cardiogoodfitness/CardioGoodFitness.csv')"
   ]
  },
  {
   "cell_type": "code",
   "execution_count": 5,
   "metadata": {},
   "outputs": [
    {
     "data": {
      "text/html": [
       "<div>\n",
       "<style scoped>\n",
       "    .dataframe tbody tr th:only-of-type {\n",
       "        vertical-align: middle;\n",
       "    }\n",
       "\n",
       "    .dataframe tbody tr th {\n",
       "        vertical-align: top;\n",
       "    }\n",
       "\n",
       "    .dataframe thead th {\n",
       "        text-align: right;\n",
       "    }\n",
       "</style>\n",
       "<table border=\"1\" class=\"dataframe\">\n",
       "  <thead>\n",
       "    <tr style=\"text-align: right;\">\n",
       "      <th></th>\n",
       "      <th>Product</th>\n",
       "      <th>Age</th>\n",
       "      <th>Gender</th>\n",
       "      <th>Education</th>\n",
       "      <th>MaritalStatus</th>\n",
       "      <th>Usage</th>\n",
       "      <th>Fitness</th>\n",
       "      <th>Income</th>\n",
       "      <th>Miles</th>\n",
       "    </tr>\n",
       "  </thead>\n",
       "  <tbody>\n",
       "    <tr>\n",
       "      <td>0</td>\n",
       "      <td>TM195</td>\n",
       "      <td>18</td>\n",
       "      <td>Male</td>\n",
       "      <td>14</td>\n",
       "      <td>Single</td>\n",
       "      <td>3</td>\n",
       "      <td>4</td>\n",
       "      <td>29562</td>\n",
       "      <td>112</td>\n",
       "    </tr>\n",
       "    <tr>\n",
       "      <td>1</td>\n",
       "      <td>TM195</td>\n",
       "      <td>19</td>\n",
       "      <td>Male</td>\n",
       "      <td>15</td>\n",
       "      <td>Single</td>\n",
       "      <td>2</td>\n",
       "      <td>3</td>\n",
       "      <td>31836</td>\n",
       "      <td>75</td>\n",
       "    </tr>\n",
       "    <tr>\n",
       "      <td>2</td>\n",
       "      <td>TM195</td>\n",
       "      <td>19</td>\n",
       "      <td>Female</td>\n",
       "      <td>14</td>\n",
       "      <td>Partnered</td>\n",
       "      <td>4</td>\n",
       "      <td>3</td>\n",
       "      <td>30699</td>\n",
       "      <td>66</td>\n",
       "    </tr>\n",
       "    <tr>\n",
       "      <td>3</td>\n",
       "      <td>TM195</td>\n",
       "      <td>19</td>\n",
       "      <td>Male</td>\n",
       "      <td>12</td>\n",
       "      <td>Single</td>\n",
       "      <td>3</td>\n",
       "      <td>3</td>\n",
       "      <td>32973</td>\n",
       "      <td>85</td>\n",
       "    </tr>\n",
       "    <tr>\n",
       "      <td>4</td>\n",
       "      <td>TM195</td>\n",
       "      <td>20</td>\n",
       "      <td>Male</td>\n",
       "      <td>13</td>\n",
       "      <td>Partnered</td>\n",
       "      <td>4</td>\n",
       "      <td>2</td>\n",
       "      <td>35247</td>\n",
       "      <td>47</td>\n",
       "    </tr>\n",
       "    <tr>\n",
       "      <td>...</td>\n",
       "      <td>...</td>\n",
       "      <td>...</td>\n",
       "      <td>...</td>\n",
       "      <td>...</td>\n",
       "      <td>...</td>\n",
       "      <td>...</td>\n",
       "      <td>...</td>\n",
       "      <td>...</td>\n",
       "      <td>...</td>\n",
       "    </tr>\n",
       "    <tr>\n",
       "      <td>175</td>\n",
       "      <td>TM798</td>\n",
       "      <td>40</td>\n",
       "      <td>Male</td>\n",
       "      <td>21</td>\n",
       "      <td>Single</td>\n",
       "      <td>6</td>\n",
       "      <td>5</td>\n",
       "      <td>83416</td>\n",
       "      <td>200</td>\n",
       "    </tr>\n",
       "    <tr>\n",
       "      <td>176</td>\n",
       "      <td>TM798</td>\n",
       "      <td>42</td>\n",
       "      <td>Male</td>\n",
       "      <td>18</td>\n",
       "      <td>Single</td>\n",
       "      <td>5</td>\n",
       "      <td>4</td>\n",
       "      <td>89641</td>\n",
       "      <td>200</td>\n",
       "    </tr>\n",
       "    <tr>\n",
       "      <td>177</td>\n",
       "      <td>TM798</td>\n",
       "      <td>45</td>\n",
       "      <td>Male</td>\n",
       "      <td>16</td>\n",
       "      <td>Single</td>\n",
       "      <td>5</td>\n",
       "      <td>5</td>\n",
       "      <td>90886</td>\n",
       "      <td>160</td>\n",
       "    </tr>\n",
       "    <tr>\n",
       "      <td>178</td>\n",
       "      <td>TM798</td>\n",
       "      <td>47</td>\n",
       "      <td>Male</td>\n",
       "      <td>18</td>\n",
       "      <td>Partnered</td>\n",
       "      <td>4</td>\n",
       "      <td>5</td>\n",
       "      <td>104581</td>\n",
       "      <td>120</td>\n",
       "    </tr>\n",
       "    <tr>\n",
       "      <td>179</td>\n",
       "      <td>TM798</td>\n",
       "      <td>48</td>\n",
       "      <td>Male</td>\n",
       "      <td>18</td>\n",
       "      <td>Partnered</td>\n",
       "      <td>4</td>\n",
       "      <td>5</td>\n",
       "      <td>95508</td>\n",
       "      <td>180</td>\n",
       "    </tr>\n",
       "  </tbody>\n",
       "</table>\n",
       "<p>180 rows × 9 columns</p>\n",
       "</div>"
      ],
      "text/plain": [
       "    Product  Age  Gender  Education MaritalStatus  Usage  Fitness  Income  \\\n",
       "0     TM195   18    Male         14        Single      3        4   29562   \n",
       "1     TM195   19    Male         15        Single      2        3   31836   \n",
       "2     TM195   19  Female         14     Partnered      4        3   30699   \n",
       "3     TM195   19    Male         12        Single      3        3   32973   \n",
       "4     TM195   20    Male         13     Partnered      4        2   35247   \n",
       "..      ...  ...     ...        ...           ...    ...      ...     ...   \n",
       "175   TM798   40    Male         21        Single      6        5   83416   \n",
       "176   TM798   42    Male         18        Single      5        4   89641   \n",
       "177   TM798   45    Male         16        Single      5        5   90886   \n",
       "178   TM798   47    Male         18     Partnered      4        5  104581   \n",
       "179   TM798   48    Male         18     Partnered      4        5   95508   \n",
       "\n",
       "     Miles  \n",
       "0      112  \n",
       "1       75  \n",
       "2       66  \n",
       "3       85  \n",
       "4       47  \n",
       "..     ...  \n",
       "175    200  \n",
       "176    200  \n",
       "177    160  \n",
       "178    120  \n",
       "179    180  \n",
       "\n",
       "[180 rows x 9 columns]"
      ]
     },
     "execution_count": 5,
     "metadata": {},
     "output_type": "execute_result"
    }
   ],
   "source": [
    "fitness_title"
   ]
  },
  {
   "cell_type": "code",
   "execution_count": 6,
   "metadata": {},
   "outputs": [
    {
     "data": {
      "text/html": [
       "<div>\n",
       "<style scoped>\n",
       "    .dataframe tbody tr th:only-of-type {\n",
       "        vertical-align: middle;\n",
       "    }\n",
       "\n",
       "    .dataframe tbody tr th {\n",
       "        vertical-align: top;\n",
       "    }\n",
       "\n",
       "    .dataframe thead th {\n",
       "        text-align: right;\n",
       "    }\n",
       "</style>\n",
       "<table border=\"1\" class=\"dataframe\">\n",
       "  <thead>\n",
       "    <tr style=\"text-align: right;\">\n",
       "      <th></th>\n",
       "      <th>Product</th>\n",
       "      <th>Age</th>\n",
       "      <th>Gender</th>\n",
       "      <th>Education</th>\n",
       "      <th>MaritalStatus</th>\n",
       "      <th>Usage</th>\n",
       "      <th>Fitness</th>\n",
       "      <th>Income</th>\n",
       "      <th>Miles</th>\n",
       "    </tr>\n",
       "  </thead>\n",
       "  <tbody>\n",
       "    <tr>\n",
       "      <td>0</td>\n",
       "      <td>TM195</td>\n",
       "      <td>18</td>\n",
       "      <td>Male</td>\n",
       "      <td>14</td>\n",
       "      <td>Single</td>\n",
       "      <td>3</td>\n",
       "      <td>4</td>\n",
       "      <td>29562</td>\n",
       "      <td>112</td>\n",
       "    </tr>\n",
       "    <tr>\n",
       "      <td>1</td>\n",
       "      <td>TM195</td>\n",
       "      <td>19</td>\n",
       "      <td>Male</td>\n",
       "      <td>15</td>\n",
       "      <td>Single</td>\n",
       "      <td>2</td>\n",
       "      <td>3</td>\n",
       "      <td>31836</td>\n",
       "      <td>75</td>\n",
       "    </tr>\n",
       "    <tr>\n",
       "      <td>2</td>\n",
       "      <td>TM195</td>\n",
       "      <td>19</td>\n",
       "      <td>Female</td>\n",
       "      <td>14</td>\n",
       "      <td>Partnered</td>\n",
       "      <td>4</td>\n",
       "      <td>3</td>\n",
       "      <td>30699</td>\n",
       "      <td>66</td>\n",
       "    </tr>\n",
       "    <tr>\n",
       "      <td>3</td>\n",
       "      <td>TM195</td>\n",
       "      <td>19</td>\n",
       "      <td>Male</td>\n",
       "      <td>12</td>\n",
       "      <td>Single</td>\n",
       "      <td>3</td>\n",
       "      <td>3</td>\n",
       "      <td>32973</td>\n",
       "      <td>85</td>\n",
       "    </tr>\n",
       "    <tr>\n",
       "      <td>4</td>\n",
       "      <td>TM195</td>\n",
       "      <td>20</td>\n",
       "      <td>Male</td>\n",
       "      <td>13</td>\n",
       "      <td>Partnered</td>\n",
       "      <td>4</td>\n",
       "      <td>2</td>\n",
       "      <td>35247</td>\n",
       "      <td>47</td>\n",
       "    </tr>\n",
       "  </tbody>\n",
       "</table>\n",
       "</div>"
      ],
      "text/plain": [
       "  Product  Age  Gender  Education MaritalStatus  Usage  Fitness  Income  Miles\n",
       "0   TM195   18    Male         14        Single      3        4   29562    112\n",
       "1   TM195   19    Male         15        Single      2        3   31836     75\n",
       "2   TM195   19  Female         14     Partnered      4        3   30699     66\n",
       "3   TM195   19    Male         12        Single      3        3   32973     85\n",
       "4   TM195   20    Male         13     Partnered      4        2   35247     47"
      ]
     },
     "execution_count": 6,
     "metadata": {},
     "output_type": "execute_result"
    }
   ],
   "source": [
    "fitness_title.head()"
   ]
  },
  {
   "cell_type": "code",
   "execution_count": 7,
   "metadata": {},
   "outputs": [
    {
     "data": {
      "text/plain": [
       "(180, 9)"
      ]
     },
     "execution_count": 7,
     "metadata": {},
     "output_type": "execute_result"
    }
   ],
   "source": [
    "fitness_title.shape"
   ]
  },
  {
   "cell_type": "code",
   "execution_count": 8,
   "metadata": {},
   "outputs": [
    {
     "name": "stdout",
     "output_type": "stream",
     "text": [
      "Their are 180 rows and 9 columns in fitness_title\n"
     ]
    }
   ],
   "source": [
    "print(\"Their are %d rows and %d columns in fitness_title\" %fitness_title.shape)"
   ]
  },
  {
   "cell_type": "code",
   "execution_count": 9,
   "metadata": {},
   "outputs": [],
   "source": [
    "def clean_text(fitness_title):      \n",
    "    \n",
    "    \n",
    "    \"\"\"function to do basic data cleaning\n",
    "        takes a single argument\n",
    "        1.takes single argument list of bulletin files\"\"\"\n",
    "                                            \n",
    "    \n",
    "    with open(\"/kaggle/input/cardiogoodfitness/CardioGoodFitness.csv\"):\n",
    "        data=f.read().replace('\\t','').replace('\\n','')\n",
    "        return data"
   ]
  },
  {
   "cell_type": "code",
   "execution_count": 10,
   "metadata": {},
   "outputs": [
    {
     "data": {
      "text/plain": [
       "<function __main__.clean_text(fitness_title)>"
      ]
     },
     "execution_count": 10,
     "metadata": {},
     "output_type": "execute_result"
    }
   ],
   "source": [
    "clean_text"
   ]
  },
  {
   "cell_type": "code",
   "execution_count": 11,
   "metadata": {},
   "outputs": [],
   "source": [
    "order = fitness_title.groupby(['Gender'])['Gender'].count()"
   ]
  },
  {
   "cell_type": "code",
   "execution_count": 12,
   "metadata": {},
   "outputs": [
    {
     "data": {
      "text/plain": [
       "Gender\n",
       "Female     76\n",
       "Male      104\n",
       "Name: Gender, dtype: int64"
      ]
     },
     "execution_count": 12,
     "metadata": {},
     "output_type": "execute_result"
    }
   ],
   "source": [
    "order"
   ]
  },
  {
   "cell_type": "code",
   "execution_count": 13,
   "metadata": {},
   "outputs": [],
   "source": [
    "df = pd.np.where(fitness_title.Gender.str.contains(\"Male\"))"
   ]
  },
  {
   "cell_type": "code",
   "execution_count": 14,
   "metadata": {},
   "outputs": [
    {
     "data": {
      "text/plain": [
       "(array([  0,   1,   3,   4,   7,   8,  10,  14,  15,  17,  20,  21,  24,\n",
       "         25,  28,  31,  33,  36,  37,  39,  40,  42,  46,  48,  50,  53,\n",
       "         54,  55,  58,  61,  63,  66,  68,  70,  71,  72,  73,  74,  75,\n",
       "         78,  80,  81,  83,  85,  86,  87,  88,  90,  93,  95,  99, 101,\n",
       "        103, 104, 105, 107, 110, 111, 115, 118, 119, 120, 122, 126, 127,\n",
       "        129, 131, 134, 137, 138, 139, 140, 141, 142, 143, 145, 146, 147,\n",
       "        149, 150, 151, 153, 154, 155, 156, 158, 159, 160, 161, 163, 164,\n",
       "        165, 166, 168, 169, 170, 172, 173, 174, 175, 176, 177, 178, 179]),)"
      ]
     },
     "execution_count": 14,
     "metadata": {},
     "output_type": "execute_result"
    }
   ],
   "source": [
    "df"
   ]
  },
  {
   "cell_type": "code",
   "execution_count": 15,
   "metadata": {},
   "outputs": [
    {
     "data": {
      "text/html": [
       "<div>\n",
       "<style scoped>\n",
       "    .dataframe tbody tr th:only-of-type {\n",
       "        vertical-align: middle;\n",
       "    }\n",
       "\n",
       "    .dataframe tbody tr th {\n",
       "        vertical-align: top;\n",
       "    }\n",
       "\n",
       "    .dataframe thead th {\n",
       "        text-align: right;\n",
       "    }\n",
       "</style>\n",
       "<table border=\"1\" class=\"dataframe\">\n",
       "  <thead>\n",
       "    <tr style=\"text-align: right;\">\n",
       "      <th></th>\n",
       "      <th>Product</th>\n",
       "      <th>Age</th>\n",
       "      <th>Gender</th>\n",
       "      <th>Education</th>\n",
       "      <th>MaritalStatus</th>\n",
       "      <th>Usage</th>\n",
       "      <th>Fitness</th>\n",
       "      <th>Income</th>\n",
       "      <th>Miles</th>\n",
       "    </tr>\n",
       "  </thead>\n",
       "  <tbody>\n",
       "    <tr>\n",
       "      <td>0</td>\n",
       "      <td>TM195</td>\n",
       "      <td>18</td>\n",
       "      <td>Male</td>\n",
       "      <td>14</td>\n",
       "      <td>Single</td>\n",
       "      <td>3</td>\n",
       "      <td>4</td>\n",
       "      <td>29562</td>\n",
       "      <td>112</td>\n",
       "    </tr>\n",
       "    <tr>\n",
       "      <td>1</td>\n",
       "      <td>TM195</td>\n",
       "      <td>19</td>\n",
       "      <td>Male</td>\n",
       "      <td>15</td>\n",
       "      <td>Single</td>\n",
       "      <td>2</td>\n",
       "      <td>3</td>\n",
       "      <td>31836</td>\n",
       "      <td>75</td>\n",
       "    </tr>\n",
       "    <tr>\n",
       "      <td>2</td>\n",
       "      <td>TM195</td>\n",
       "      <td>19</td>\n",
       "      <td>Female</td>\n",
       "      <td>14</td>\n",
       "      <td>Partnered</td>\n",
       "      <td>4</td>\n",
       "      <td>3</td>\n",
       "      <td>30699</td>\n",
       "      <td>66</td>\n",
       "    </tr>\n",
       "    <tr>\n",
       "      <td>3</td>\n",
       "      <td>TM195</td>\n",
       "      <td>19</td>\n",
       "      <td>Male</td>\n",
       "      <td>12</td>\n",
       "      <td>Single</td>\n",
       "      <td>3</td>\n",
       "      <td>3</td>\n",
       "      <td>32973</td>\n",
       "      <td>85</td>\n",
       "    </tr>\n",
       "    <tr>\n",
       "      <td>4</td>\n",
       "      <td>TM195</td>\n",
       "      <td>20</td>\n",
       "      <td>Male</td>\n",
       "      <td>13</td>\n",
       "      <td>Partnered</td>\n",
       "      <td>4</td>\n",
       "      <td>2</td>\n",
       "      <td>35247</td>\n",
       "      <td>47</td>\n",
       "    </tr>\n",
       "    <tr>\n",
       "      <td>5</td>\n",
       "      <td>TM195</td>\n",
       "      <td>20</td>\n",
       "      <td>Female</td>\n",
       "      <td>14</td>\n",
       "      <td>Partnered</td>\n",
       "      <td>3</td>\n",
       "      <td>3</td>\n",
       "      <td>32973</td>\n",
       "      <td>66</td>\n",
       "    </tr>\n",
       "    <tr>\n",
       "      <td>6</td>\n",
       "      <td>TM195</td>\n",
       "      <td>21</td>\n",
       "      <td>Female</td>\n",
       "      <td>14</td>\n",
       "      <td>Partnered</td>\n",
       "      <td>3</td>\n",
       "      <td>3</td>\n",
       "      <td>35247</td>\n",
       "      <td>75</td>\n",
       "    </tr>\n",
       "    <tr>\n",
       "      <td>7</td>\n",
       "      <td>TM195</td>\n",
       "      <td>21</td>\n",
       "      <td>Male</td>\n",
       "      <td>13</td>\n",
       "      <td>Single</td>\n",
       "      <td>3</td>\n",
       "      <td>3</td>\n",
       "      <td>32973</td>\n",
       "      <td>85</td>\n",
       "    </tr>\n",
       "    <tr>\n",
       "      <td>8</td>\n",
       "      <td>TM195</td>\n",
       "      <td>21</td>\n",
       "      <td>Male</td>\n",
       "      <td>15</td>\n",
       "      <td>Single</td>\n",
       "      <td>5</td>\n",
       "      <td>4</td>\n",
       "      <td>35247</td>\n",
       "      <td>141</td>\n",
       "    </tr>\n",
       "    <tr>\n",
       "      <td>9</td>\n",
       "      <td>TM195</td>\n",
       "      <td>21</td>\n",
       "      <td>Female</td>\n",
       "      <td>15</td>\n",
       "      <td>Partnered</td>\n",
       "      <td>2</td>\n",
       "      <td>3</td>\n",
       "      <td>37521</td>\n",
       "      <td>85</td>\n",
       "    </tr>\n",
       "  </tbody>\n",
       "</table>\n",
       "</div>"
      ],
      "text/plain": [
       "  Product  Age  Gender  Education MaritalStatus  Usage  Fitness  Income  Miles\n",
       "0   TM195   18    Male         14        Single      3        4   29562    112\n",
       "1   TM195   19    Male         15        Single      2        3   31836     75\n",
       "2   TM195   19  Female         14     Partnered      4        3   30699     66\n",
       "3   TM195   19    Male         12        Single      3        3   32973     85\n",
       "4   TM195   20    Male         13     Partnered      4        2   35247     47\n",
       "5   TM195   20  Female         14     Partnered      3        3   32973     66\n",
       "6   TM195   21  Female         14     Partnered      3        3   35247     75\n",
       "7   TM195   21    Male         13        Single      3        3   32973     85\n",
       "8   TM195   21    Male         15        Single      5        4   35247    141\n",
       "9   TM195   21  Female         15     Partnered      2        3   37521     85"
      ]
     },
     "execution_count": 15,
     "metadata": {},
     "output_type": "execute_result"
    }
   ],
   "source": [
    "fitness_title[:10]"
   ]
  },
  {
   "cell_type": "code",
   "execution_count": 16,
   "metadata": {},
   "outputs": [
    {
     "data": {
      "text/html": [
       "<div>\n",
       "<style scoped>\n",
       "    .dataframe tbody tr th:only-of-type {\n",
       "        vertical-align: middle;\n",
       "    }\n",
       "\n",
       "    .dataframe tbody tr th {\n",
       "        vertical-align: top;\n",
       "    }\n",
       "\n",
       "    .dataframe thead th {\n",
       "        text-align: right;\n",
       "    }\n",
       "</style>\n",
       "<table border=\"1\" class=\"dataframe\">\n",
       "  <thead>\n",
       "    <tr style=\"text-align: right;\">\n",
       "      <th></th>\n",
       "      <th>Age</th>\n",
       "      <th>Gender</th>\n",
       "      <th>Education</th>\n",
       "      <th>MaritalStatus</th>\n",
       "      <th>Usage</th>\n",
       "      <th>Fitness</th>\n",
       "      <th>Income</th>\n",
       "      <th>Miles</th>\n",
       "    </tr>\n",
       "    <tr>\n",
       "      <th>Product</th>\n",
       "      <th></th>\n",
       "      <th></th>\n",
       "      <th></th>\n",
       "      <th></th>\n",
       "      <th></th>\n",
       "      <th></th>\n",
       "      <th></th>\n",
       "      <th></th>\n",
       "    </tr>\n",
       "  </thead>\n",
       "  <tbody>\n",
       "    <tr>\n",
       "      <td>TM195</td>\n",
       "      <td>18</td>\n",
       "      <td>Male</td>\n",
       "      <td>14</td>\n",
       "      <td>Single</td>\n",
       "      <td>3</td>\n",
       "      <td>4</td>\n",
       "      <td>29562</td>\n",
       "      <td>112</td>\n",
       "    </tr>\n",
       "    <tr>\n",
       "      <td>TM195</td>\n",
       "      <td>19</td>\n",
       "      <td>Male</td>\n",
       "      <td>15</td>\n",
       "      <td>Single</td>\n",
       "      <td>2</td>\n",
       "      <td>3</td>\n",
       "      <td>31836</td>\n",
       "      <td>75</td>\n",
       "    </tr>\n",
       "    <tr>\n",
       "      <td>TM195</td>\n",
       "      <td>19</td>\n",
       "      <td>Female</td>\n",
       "      <td>14</td>\n",
       "      <td>Partnered</td>\n",
       "      <td>4</td>\n",
       "      <td>3</td>\n",
       "      <td>30699</td>\n",
       "      <td>66</td>\n",
       "    </tr>\n",
       "    <tr>\n",
       "      <td>TM195</td>\n",
       "      <td>19</td>\n",
       "      <td>Male</td>\n",
       "      <td>12</td>\n",
       "      <td>Single</td>\n",
       "      <td>3</td>\n",
       "      <td>3</td>\n",
       "      <td>32973</td>\n",
       "      <td>85</td>\n",
       "    </tr>\n",
       "    <tr>\n",
       "      <td>TM195</td>\n",
       "      <td>20</td>\n",
       "      <td>Male</td>\n",
       "      <td>13</td>\n",
       "      <td>Partnered</td>\n",
       "      <td>4</td>\n",
       "      <td>2</td>\n",
       "      <td>35247</td>\n",
       "      <td>47</td>\n",
       "    </tr>\n",
       "    <tr>\n",
       "      <td>...</td>\n",
       "      <td>...</td>\n",
       "      <td>...</td>\n",
       "      <td>...</td>\n",
       "      <td>...</td>\n",
       "      <td>...</td>\n",
       "      <td>...</td>\n",
       "      <td>...</td>\n",
       "      <td>...</td>\n",
       "    </tr>\n",
       "    <tr>\n",
       "      <td>TM798</td>\n",
       "      <td>40</td>\n",
       "      <td>Male</td>\n",
       "      <td>21</td>\n",
       "      <td>Single</td>\n",
       "      <td>6</td>\n",
       "      <td>5</td>\n",
       "      <td>83416</td>\n",
       "      <td>200</td>\n",
       "    </tr>\n",
       "    <tr>\n",
       "      <td>TM798</td>\n",
       "      <td>42</td>\n",
       "      <td>Male</td>\n",
       "      <td>18</td>\n",
       "      <td>Single</td>\n",
       "      <td>5</td>\n",
       "      <td>4</td>\n",
       "      <td>89641</td>\n",
       "      <td>200</td>\n",
       "    </tr>\n",
       "    <tr>\n",
       "      <td>TM798</td>\n",
       "      <td>45</td>\n",
       "      <td>Male</td>\n",
       "      <td>16</td>\n",
       "      <td>Single</td>\n",
       "      <td>5</td>\n",
       "      <td>5</td>\n",
       "      <td>90886</td>\n",
       "      <td>160</td>\n",
       "    </tr>\n",
       "    <tr>\n",
       "      <td>TM798</td>\n",
       "      <td>47</td>\n",
       "      <td>Male</td>\n",
       "      <td>18</td>\n",
       "      <td>Partnered</td>\n",
       "      <td>4</td>\n",
       "      <td>5</td>\n",
       "      <td>104581</td>\n",
       "      <td>120</td>\n",
       "    </tr>\n",
       "    <tr>\n",
       "      <td>TM798</td>\n",
       "      <td>48</td>\n",
       "      <td>Male</td>\n",
       "      <td>18</td>\n",
       "      <td>Partnered</td>\n",
       "      <td>4</td>\n",
       "      <td>5</td>\n",
       "      <td>95508</td>\n",
       "      <td>180</td>\n",
       "    </tr>\n",
       "  </tbody>\n",
       "</table>\n",
       "<p>180 rows × 8 columns</p>\n",
       "</div>"
      ],
      "text/plain": [
       "         Age  Gender  Education MaritalStatus  Usage  Fitness  Income  Miles\n",
       "Product                                                                     \n",
       "TM195     18    Male         14        Single      3        4   29562    112\n",
       "TM195     19    Male         15        Single      2        3   31836     75\n",
       "TM195     19  Female         14     Partnered      4        3   30699     66\n",
       "TM195     19    Male         12        Single      3        3   32973     85\n",
       "TM195     20    Male         13     Partnered      4        2   35247     47\n",
       "...      ...     ...        ...           ...    ...      ...     ...    ...\n",
       "TM798     40    Male         21        Single      6        5   83416    200\n",
       "TM798     42    Male         18        Single      5        4   89641    200\n",
       "TM798     45    Male         16        Single      5        5   90886    160\n",
       "TM798     47    Male         18     Partnered      4        5  104581    120\n",
       "TM798     48    Male         18     Partnered      4        5   95508    180\n",
       "\n",
       "[180 rows x 8 columns]"
      ]
     },
     "execution_count": 16,
     "metadata": {},
     "output_type": "execute_result"
    }
   ],
   "source": [
    "fitness_title.set_index('Product')"
   ]
  },
  {
   "cell_type": "code",
   "execution_count": 17,
   "metadata": {},
   "outputs": [
    {
     "data": {
      "text/html": [
       "<div>\n",
       "<style scoped>\n",
       "    .dataframe tbody tr th:only-of-type {\n",
       "        vertical-align: middle;\n",
       "    }\n",
       "\n",
       "    .dataframe tbody tr th {\n",
       "        vertical-align: top;\n",
       "    }\n",
       "\n",
       "    .dataframe thead th {\n",
       "        text-align: right;\n",
       "    }\n",
       "</style>\n",
       "<table border=\"1\" class=\"dataframe\">\n",
       "  <thead>\n",
       "    <tr style=\"text-align: right;\">\n",
       "      <th></th>\n",
       "      <th>Product</th>\n",
       "      <th>Age</th>\n",
       "      <th>Gender</th>\n",
       "      <th>Education</th>\n",
       "      <th>MaritalStatus</th>\n",
       "      <th>Usage</th>\n",
       "      <th>Fitness</th>\n",
       "      <th>Income</th>\n",
       "      <th>Miles</th>\n",
       "    </tr>\n",
       "  </thead>\n",
       "  <tbody>\n",
       "    <tr>\n",
       "      <td>100</td>\n",
       "      <td>TM498</td>\n",
       "      <td>25</td>\n",
       "      <td>Female</td>\n",
       "      <td>14</td>\n",
       "      <td>Partnered</td>\n",
       "      <td>5</td>\n",
       "      <td>3</td>\n",
       "      <td>47754</td>\n",
       "      <td>106</td>\n",
       "    </tr>\n",
       "    <tr>\n",
       "      <td>101</td>\n",
       "      <td>TM498</td>\n",
       "      <td>25</td>\n",
       "      <td>Male</td>\n",
       "      <td>14</td>\n",
       "      <td>Single</td>\n",
       "      <td>3</td>\n",
       "      <td>3</td>\n",
       "      <td>45480</td>\n",
       "      <td>95</td>\n",
       "    </tr>\n",
       "    <tr>\n",
       "      <td>102</td>\n",
       "      <td>TM498</td>\n",
       "      <td>25</td>\n",
       "      <td>Female</td>\n",
       "      <td>14</td>\n",
       "      <td>Single</td>\n",
       "      <td>2</td>\n",
       "      <td>3</td>\n",
       "      <td>43206</td>\n",
       "      <td>64</td>\n",
       "    </tr>\n",
       "    <tr>\n",
       "      <td>103</td>\n",
       "      <td>TM498</td>\n",
       "      <td>25</td>\n",
       "      <td>Male</td>\n",
       "      <td>14</td>\n",
       "      <td>Partnered</td>\n",
       "      <td>4</td>\n",
       "      <td>3</td>\n",
       "      <td>45480</td>\n",
       "      <td>170</td>\n",
       "    </tr>\n",
       "    <tr>\n",
       "      <td>104</td>\n",
       "      <td>TM498</td>\n",
       "      <td>25</td>\n",
       "      <td>Male</td>\n",
       "      <td>14</td>\n",
       "      <td>Partnered</td>\n",
       "      <td>3</td>\n",
       "      <td>4</td>\n",
       "      <td>43206</td>\n",
       "      <td>106</td>\n",
       "    </tr>\n",
       "    <tr>\n",
       "      <td>105</td>\n",
       "      <td>TM498</td>\n",
       "      <td>25</td>\n",
       "      <td>Male</td>\n",
       "      <td>16</td>\n",
       "      <td>Partnered</td>\n",
       "      <td>2</td>\n",
       "      <td>3</td>\n",
       "      <td>50028</td>\n",
       "      <td>53</td>\n",
       "    </tr>\n",
       "    <tr>\n",
       "      <td>106</td>\n",
       "      <td>TM498</td>\n",
       "      <td>25</td>\n",
       "      <td>Female</td>\n",
       "      <td>14</td>\n",
       "      <td>Single</td>\n",
       "      <td>2</td>\n",
       "      <td>2</td>\n",
       "      <td>45480</td>\n",
       "      <td>42</td>\n",
       "    </tr>\n",
       "    <tr>\n",
       "      <td>107</td>\n",
       "      <td>TM498</td>\n",
       "      <td>25</td>\n",
       "      <td>Male</td>\n",
       "      <td>14</td>\n",
       "      <td>Single</td>\n",
       "      <td>4</td>\n",
       "      <td>3</td>\n",
       "      <td>48891</td>\n",
       "      <td>127</td>\n",
       "    </tr>\n",
       "    <tr>\n",
       "      <td>108</td>\n",
       "      <td>TM498</td>\n",
       "      <td>26</td>\n",
       "      <td>Female</td>\n",
       "      <td>16</td>\n",
       "      <td>Partnered</td>\n",
       "      <td>4</td>\n",
       "      <td>3</td>\n",
       "      <td>45480</td>\n",
       "      <td>85</td>\n",
       "    </tr>\n",
       "    <tr>\n",
       "      <td>109</td>\n",
       "      <td>TM498</td>\n",
       "      <td>26</td>\n",
       "      <td>Female</td>\n",
       "      <td>16</td>\n",
       "      <td>Single</td>\n",
       "      <td>4</td>\n",
       "      <td>4</td>\n",
       "      <td>50028</td>\n",
       "      <td>127</td>\n",
       "    </tr>\n",
       "    <tr>\n",
       "      <td>110</td>\n",
       "      <td>TM498</td>\n",
       "      <td>26</td>\n",
       "      <td>Male</td>\n",
       "      <td>16</td>\n",
       "      <td>Single</td>\n",
       "      <td>4</td>\n",
       "      <td>3</td>\n",
       "      <td>51165</td>\n",
       "      <td>106</td>\n",
       "    </tr>\n",
       "    <tr>\n",
       "      <td>111</td>\n",
       "      <td>TM498</td>\n",
       "      <td>27</td>\n",
       "      <td>Male</td>\n",
       "      <td>14</td>\n",
       "      <td>Single</td>\n",
       "      <td>4</td>\n",
       "      <td>2</td>\n",
       "      <td>45480</td>\n",
       "      <td>53</td>\n",
       "    </tr>\n",
       "    <tr>\n",
       "      <td>112</td>\n",
       "      <td>TM498</td>\n",
       "      <td>29</td>\n",
       "      <td>Female</td>\n",
       "      <td>14</td>\n",
       "      <td>Partnered</td>\n",
       "      <td>3</td>\n",
       "      <td>3</td>\n",
       "      <td>51165</td>\n",
       "      <td>95</td>\n",
       "    </tr>\n",
       "    <tr>\n",
       "      <td>113</td>\n",
       "      <td>TM498</td>\n",
       "      <td>30</td>\n",
       "      <td>Female</td>\n",
       "      <td>14</td>\n",
       "      <td>Single</td>\n",
       "      <td>3</td>\n",
       "      <td>3</td>\n",
       "      <td>57987</td>\n",
       "      <td>74</td>\n",
       "    </tr>\n",
       "    <tr>\n",
       "      <td>114</td>\n",
       "      <td>TM498</td>\n",
       "      <td>30</td>\n",
       "      <td>Female</td>\n",
       "      <td>13</td>\n",
       "      <td>Single</td>\n",
       "      <td>4</td>\n",
       "      <td>3</td>\n",
       "      <td>46617</td>\n",
       "      <td>106</td>\n",
       "    </tr>\n",
       "    <tr>\n",
       "      <td>115</td>\n",
       "      <td>TM498</td>\n",
       "      <td>31</td>\n",
       "      <td>Male</td>\n",
       "      <td>16</td>\n",
       "      <td>Partnered</td>\n",
       "      <td>3</td>\n",
       "      <td>3</td>\n",
       "      <td>52302</td>\n",
       "      <td>95</td>\n",
       "    </tr>\n",
       "    <tr>\n",
       "      <td>116</td>\n",
       "      <td>TM498</td>\n",
       "      <td>31</td>\n",
       "      <td>Female</td>\n",
       "      <td>16</td>\n",
       "      <td>Partnered</td>\n",
       "      <td>2</td>\n",
       "      <td>3</td>\n",
       "      <td>51165</td>\n",
       "      <td>64</td>\n",
       "    </tr>\n",
       "    <tr>\n",
       "      <td>117</td>\n",
       "      <td>TM498</td>\n",
       "      <td>31</td>\n",
       "      <td>Female</td>\n",
       "      <td>18</td>\n",
       "      <td>Single</td>\n",
       "      <td>2</td>\n",
       "      <td>1</td>\n",
       "      <td>65220</td>\n",
       "      <td>21</td>\n",
       "    </tr>\n",
       "    <tr>\n",
       "      <td>118</td>\n",
       "      <td>TM498</td>\n",
       "      <td>32</td>\n",
       "      <td>Male</td>\n",
       "      <td>16</td>\n",
       "      <td>Single</td>\n",
       "      <td>4</td>\n",
       "      <td>3</td>\n",
       "      <td>60261</td>\n",
       "      <td>127</td>\n",
       "    </tr>\n",
       "    <tr>\n",
       "      <td>119</td>\n",
       "      <td>TM498</td>\n",
       "      <td>32</td>\n",
       "      <td>Male</td>\n",
       "      <td>16</td>\n",
       "      <td>Partnered</td>\n",
       "      <td>3</td>\n",
       "      <td>3</td>\n",
       "      <td>53439</td>\n",
       "      <td>95</td>\n",
       "    </tr>\n",
       "  </tbody>\n",
       "</table>\n",
       "</div>"
      ],
      "text/plain": [
       "    Product  Age  Gender  Education MaritalStatus  Usage  Fitness  Income  \\\n",
       "100   TM498   25  Female         14     Partnered      5        3   47754   \n",
       "101   TM498   25    Male         14        Single      3        3   45480   \n",
       "102   TM498   25  Female         14        Single      2        3   43206   \n",
       "103   TM498   25    Male         14     Partnered      4        3   45480   \n",
       "104   TM498   25    Male         14     Partnered      3        4   43206   \n",
       "105   TM498   25    Male         16     Partnered      2        3   50028   \n",
       "106   TM498   25  Female         14        Single      2        2   45480   \n",
       "107   TM498   25    Male         14        Single      4        3   48891   \n",
       "108   TM498   26  Female         16     Partnered      4        3   45480   \n",
       "109   TM498   26  Female         16        Single      4        4   50028   \n",
       "110   TM498   26    Male         16        Single      4        3   51165   \n",
       "111   TM498   27    Male         14        Single      4        2   45480   \n",
       "112   TM498   29  Female         14     Partnered      3        3   51165   \n",
       "113   TM498   30  Female         14        Single      3        3   57987   \n",
       "114   TM498   30  Female         13        Single      4        3   46617   \n",
       "115   TM498   31    Male         16     Partnered      3        3   52302   \n",
       "116   TM498   31  Female         16     Partnered      2        3   51165   \n",
       "117   TM498   31  Female         18        Single      2        1   65220   \n",
       "118   TM498   32    Male         16        Single      4        3   60261   \n",
       "119   TM498   32    Male         16     Partnered      3        3   53439   \n",
       "\n",
       "     Miles  \n",
       "100    106  \n",
       "101     95  \n",
       "102     64  \n",
       "103    170  \n",
       "104    106  \n",
       "105     53  \n",
       "106     42  \n",
       "107    127  \n",
       "108     85  \n",
       "109    127  \n",
       "110    106  \n",
       "111     53  \n",
       "112     95  \n",
       "113     74  \n",
       "114    106  \n",
       "115     95  \n",
       "116     64  \n",
       "117     21  \n",
       "118    127  \n",
       "119     95  "
      ]
     },
     "execution_count": 17,
     "metadata": {},
     "output_type": "execute_result"
    }
   ],
   "source": [
    "fitness_title[100:120]"
   ]
  },
  {
   "cell_type": "code",
   "execution_count": 18,
   "metadata": {},
   "outputs": [
    {
     "data": {
      "text/plain": [
       "MaritalStatus\n",
       "Partnered    107\n",
       "Single        73\n",
       "Name: MaritalStatus, dtype: int64"
      ]
     },
     "execution_count": 18,
     "metadata": {},
     "output_type": "execute_result"
    }
   ],
   "source": [
    "fitness_title.groupby([\"MaritalStatus\"])['MaritalStatus'].count() \n",
    "#     By this analysis we can identify that more number of people who has joined fitness club are partnered"
   ]
  },
  {
   "cell_type": "code",
   "execution_count": 19,
   "metadata": {},
   "outputs": [
    {
     "data": {
      "text/plain": [
       "Age\n",
       "18     1\n",
       "19     4\n",
       "20     5\n",
       "21     7\n",
       "22     7\n",
       "23    18\n",
       "24    12\n",
       "25    25\n",
       "26    12\n",
       "27     7\n",
       "28     9\n",
       "29     6\n",
       "30     7\n",
       "31     6\n",
       "32     4\n",
       "33     8\n",
       "34     6\n",
       "35     8\n",
       "36     1\n",
       "37     2\n",
       "38     7\n",
       "39     1\n",
       "40     5\n",
       "41     1\n",
       "42     1\n",
       "43     1\n",
       "44     1\n",
       "45     2\n",
       "46     1\n",
       "47     2\n",
       "48     2\n",
       "50     1\n",
       "Name: Age, dtype: int64"
      ]
     },
     "execution_count": 19,
     "metadata": {},
     "output_type": "execute_result"
    }
   ],
   "source": [
    "fitness_title.groupby([\"Age\"])['Age'].count()"
   ]
  },
  {
   "cell_type": "code",
   "execution_count": 20,
   "metadata": {},
   "outputs": [],
   "source": [
    "import matplotlib.pyplot as plt"
   ]
  },
  {
   "cell_type": "code",
   "execution_count": 21,
   "metadata": {},
   "outputs": [
    {
     "data": {
      "text/plain": [
       "<Figure size 1440x720 with 0 Axes>"
      ]
     },
     "execution_count": 21,
     "metadata": {},
     "output_type": "execute_result"
    },
    {
     "data": {
      "text/plain": [
       "<Figure size 1440x720 with 0 Axes>"
      ]
     },
     "metadata": {},
     "output_type": "display_data"
    }
   ],
   "source": [
    "plt.figure(figsize=(20,10))"
   ]
  },
  {
   "cell_type": "code",
   "execution_count": 22,
   "metadata": {},
   "outputs": [
    {
     "data": {
      "text/plain": [
       "<pandas.core.groupby.generic.DataFrameGroupBy object at 0x7f2692ae1550>"
      ]
     },
     "execution_count": 22,
     "metadata": {},
     "output_type": "execute_result"
    }
   ],
   "source": [
    "fitness_title.groupby([\"MaritalStatus\"])"
   ]
  },
  {
   "cell_type": "code",
   "execution_count": 23,
   "metadata": {},
   "outputs": [
    {
     "data": {
      "image/png": "[encoded data removed]",
      "text/plain": [
       "<Figure size 432x288 with 1 Axes>"
      ]
     },
     "metadata": {
      "needs_background": "light"
     },
     "output_type": "display_data"
    }
   ],
   "source": [
    "import matplotlib.pyplot as plt\n",
    "import pandas as pd\n",
    "\n",
    "data = pd.read_csv('/kaggle/input/cardiogoodfitness/CardioGoodFitness.csv', sep=',',header=None, index_col =0)\n",
    "\n",
    "\n",
    "plt.ylabel('Frequency')\n",
    "plt.xlabel('Words')\n",
    "plt.title('Title')\n",
    "\n",
    "plt.show()"
   ]
  },
  {
   "cell_type": "code",
   "execution_count": 24,
   "metadata": {},
   "outputs": [
    {
     "ename": "TypeError",
     "evalue": "tuple indices must be integers or slices, not str",
     "output_type": "error",
     "traceback": [
      "\u001b[0;31m---------------------------------------------------------------------------\u001b[0m",
      "\u001b[0;31mTypeError\u001b[0m                                 Traceback (most recent call last)",
      "\u001b[0;32m<ipython-input-24-f62b0f7dbfa3>\u001b[0m in \u001b[0;36m<module>\u001b[0;34m\u001b[0m\n\u001b[0;32m----> 1\u001b[0;31m \u001b[0mdf\u001b[0m\u001b[0;34m[\u001b[0m\u001b[0;34m\"Age\"\u001b[0m\u001b[0;34m]\u001b[0m\u001b[0;34m.\u001b[0m\u001b[0mvalue_counts\u001b[0m\u001b[0;34m(\u001b[0m\u001b[0;34m)\u001b[0m\u001b[0;34m\u001b[0m\u001b[0m\n\u001b[0m",
      "\u001b[0;31mTypeError\u001b[0m: tuple indices must be integers or slices, not str"
     ]
    }
   ],
   "source": [
    "df[\"Age\"].value_counts()"
   ]
  },
  {
   "cell_type": "code",
   "execution_count": 25,
   "metadata": {},
   "outputs": [
    {
     "data": {
      "text/plain": [
       "25    25\n",
       "23    18\n",
       "26    12\n",
       "24    12\n",
       "28     9\n",
       "33     8\n",
       "35     8\n",
       "30     7\n",
       "38     7\n",
       "22     7\n",
       "21     7\n",
       "27     7\n",
       "34     6\n",
       "31     6\n",
       "29     6\n",
       "40     5\n",
       "20     5\n",
       "32     4\n",
       "19     4\n",
       "37     2\n",
       "45     2\n",
       "48     2\n",
       "47     2\n",
       "50     1\n",
       "36     1\n",
       "39     1\n",
       "41     1\n",
       "42     1\n",
       "43     1\n",
       "44     1\n",
       "46     1\n",
       "18     1\n",
       "Name: Age, dtype: int64"
      ]
     },
     "execution_count": 25,
     "metadata": {},
     "output_type": "execute_result"
    }
   ],
   "source": [
    "fitness_title['Age'].value_counts()"
   ]
  },
  {
   "cell_type": "code",
   "execution_count": 26,
   "metadata": {},
   "outputs": [
    {
     "data": {
      "text/plain": [
       "Text(0.5, 1.0, 'No. Of Age Groups')"
      ]
     },
     "execution_count": 26,
     "metadata": {},
     "output_type": "execute_result"
    },
    {
     "data": {
      "image/png": "[encoded data removed]",
      "text/plain": [
       "<Figure size 432x288 with 1 Axes>"
      ]
     },
     "metadata": {
      "needs_background": "light"
     },
     "output_type": "display_data"
    }
   ],
   "source": [
    "fitness_title['Age'].value_counts().plot()\n",
    "plt.ylabel('Count')\n",
    "plt.xlabel('Age')\n",
    "plt.title('No. Of Age Groups')"
   ]
  },
  {
   "cell_type": "code",
   "execution_count": 27,
   "metadata": {},
   "outputs": [
    {
     "name": "stderr",
     "output_type": "stream",
     "text": [
      "/opt/conda/lib/python3.6/site-packages/ipykernel_launcher.py:1: FutureWarning: `Series.plot()` should not be called with positional arguments, only keyword arguments. The order of positional arguments will change in the future. Use `Series.plot(kind='bar')` instead of `Series.plot('bar',)`.\n",
      "  \"\"\"Entry point for launching an IPython kernel.\n"
     ]
    },
    {
     "data": {
      "text/plain": [
       "Text(0.5, 1.0, 'No. Of Age Groups')"
      ]
     },
     "execution_count": 27,
     "metadata": {},
     "output_type": "execute_result"
    },
    {
     "data": {
      "image/png": "[encoded data removed]",
      "text/plain": [
       "<Figure size 432x288 with 1 Axes>"
      ]
     },
     "metadata": {
      "needs_background": "light"
     },
     "output_type": "display_data"
    }
   ],
   "source": [
    "fitness_title['Age'].value_counts().plot('bar')\n",
    "plt.ylabel('Count')\n",
    "plt.xlabel('Age')\n",
    "plt.title('No. Of Age Groups')"
   ]
  },
  {
   "cell_type": "code",
   "execution_count": 28,
   "metadata": {},
   "outputs": [
    {
     "name": "stderr",
     "output_type": "stream",
     "text": [
      "/opt/conda/lib/python3.6/site-packages/ipykernel_launcher.py:1: FutureWarning: `Series.plot()` should not be called with positional arguments, only keyword arguments. The order of positional arguments will change in the future. Use `Series.plot(kind='barh')` instead of `Series.plot('barh',)`.\n",
      "  \"\"\"Entry point for launching an IPython kernel.\n"
     ]
    },
    {
     "data": {
      "text/plain": [
       "Text(0.5, 1.0, 'No. Of Age Groups')"
      ]
     },
     "execution_count": 28,
     "metadata": {},
     "output_type": "execute_result"
    },
    {
     "data": {
      "image/png": "[encoded data removed]",
      "text/plain": [
       "<Figure size 432x288 with 1 Axes>"
      ]
     },
     "metadata": {
      "needs_background": "light"
     },
     "output_type": "display_data"
    }
   ],
   "source": [
    "fitness_title['Age'].value_counts().plot('barh')\n",
    "plt.ylabel('Count')\n",
    "plt.xlabel('Age')\n",
    "plt.title('No. Of Age Groups')\n"
   ]
  },
  {
   "cell_type": "code",
   "execution_count": 29,
   "metadata": {},
   "outputs": [
    {
     "data": {
      "text/plain": [
       "Text(0.5, 1.0, 'No. Of Age Groups')"
      ]
     },
     "execution_count": 29,
     "metadata": {},
     "output_type": "execute_result"
    },
    {
     "data": {
      "image/png": "[encoded data removed]",
      "text/plain": [
       "<Figure size 432x288 with 1 Axes>"
      ]
     },
     "metadata": {
      "needs_background": "light"
     },
     "output_type": "display_data"
    }
   ],
   "source": [
    "fitness_title['Age'].value_counts().hist()\n",
    "plt.ylabel('Count')\n",
    "plt.xlabel('Age')\n",
    "plt.title('No. Of Age Groups')\n"
   ]
  },
  {
   "cell_type": "code",
   "execution_count": 30,
   "metadata": {},
   "outputs": [
    {
     "name": "stderr",
     "output_type": "stream",
     "text": [
      "/opt/conda/lib/python3.6/site-packages/ipykernel_launcher.py:1: FutureWarning: `Series.plot()` should not be called with positional arguments, only keyword arguments. The order of positional arguments will change in the future. Use `Series.plot(kind='barh')` instead of `Series.plot('barh',)`.\n",
      "  \"\"\"Entry point for launching an IPython kernel.\n"
     ]
    },
    {
     "data": {
      "text/plain": [
       "Text(0.5, 1.0, 'No. Of Gender Groups')"
      ]
     },
     "execution_count": 30,
     "metadata": {},
     "output_type": "execute_result"
    },
    {
     "data": {
      "image/png": "[encoded data removed]",
      "text/plain": [
       "<Figure size 432x288 with 1 Axes>"
      ]
     },
     "metadata": {
      "needs_background": "light"
     },
     "output_type": "display_data"
    }
   ],
   "source": [
    "fitness_title['Gender'].value_counts().plot('barh')\n",
    "plt.ylabel('Count')\n",
    "plt.xlabel('Gender')\n",
    "plt.title('No. Of Gender Groups')"
   ]
  },
  {
   "cell_type": "code",
   "execution_count": 31,
   "metadata": {},
   "outputs": [
    {
     "name": "stderr",
     "output_type": "stream",
     "text": [
      "/opt/conda/lib/python3.6/site-packages/ipykernel_launcher.py:1: FutureWarning: `Series.plot()` should not be called with positional arguments, only keyword arguments. The order of positional arguments will change in the future. Use `Series.plot(kind='bar')` instead of `Series.plot('bar',)`.\n",
      "  \"\"\"Entry point for launching an IPython kernel.\n"
     ]
    },
    {
     "data": {
      "text/plain": [
       "Text(0.5, 1.0, 'No. Of Gender Groups')"
      ]
     },
     "execution_count": 31,
     "metadata": {},
     "output_type": "execute_result"
    },
    {
     "data": {
      "image/png": "[encoded data removed]",
      "text/plain": [
       "<Figure size 432x288 with 1 Axes>"
      ]
     },
     "metadata": {
      "needs_background": "light"
     },
     "output_type": "display_data"
    }
   ],
   "source": [
    "fitness_title['Gender'].value_counts().plot('bar')\n",
    "plt.ylabel('Count')\n",
    "plt.xlabel('Gender')\n",
    "plt.title('No. Of Gender Groups')"
   ]
  },
  {
   "cell_type": "code",
   "execution_count": 32,
   "metadata": {},
   "outputs": [
    {
     "name": "stderr",
     "output_type": "stream",
     "text": [
      "/opt/conda/lib/python3.6/site-packages/ipykernel_launcher.py:1: FutureWarning: `Series.plot()` should not be called with positional arguments, only keyword arguments. The order of positional arguments will change in the future. Use `Series.plot(kind='line')` instead of `Series.plot('line',)`.\n",
      "  \"\"\"Entry point for launching an IPython kernel.\n"
     ]
    },
    {
     "data": {
      "text/plain": [
       "Text(0.5, 1.0, 'No. Of Gender Groups')"
      ]
     },
     "execution_count": 32,
     "metadata": {},
     "output_type": "execute_result"
    },
    {
     "data": {
      "image/png": "[encoded data removed]",
      "text/plain": [
       "<Figure size 432x288 with 1 Axes>"
      ]
     },
     "metadata": {
      "needs_background": "light"
     },
     "output_type": "display_data"
    }
   ],
   "source": [
    "fitness_title['Gender'].value_counts().plot('line')\n",
    "plt.ylabel('Count')\n",
    "plt.xlabel('Gender')\n",
    "plt.title('No. Of Gender Groups')"
   ]
  },
  {
   "cell_type": "code",
   "execution_count": 33,
   "metadata": {},
   "outputs": [
    {
     "name": "stderr",
     "output_type": "stream",
     "text": [
      "/opt/conda/lib/python3.6/site-packages/ipykernel_launcher.py:1: FutureWarning: `Series.plot()` should not be called with positional arguments, only keyword arguments. The order of positional arguments will change in the future. Use `Series.plot(kind='barh')` instead of `Series.plot('barh',)`.\n",
      "  \"\"\"Entry point for launching an IPython kernel.\n"
     ]
    },
    {
     "data": {
      "text/plain": [
       "Text(0.5, 1.0, 'No. Of MaritalStatus Groups')"
      ]
     },
     "execution_count": 33,
     "metadata": {},
     "output_type": "execute_result"
    },
    {
     "data": {
      "image/png": "[encoded data removed]",
      "text/plain": [
       "<Figure size 432x288 with 1 Axes>"
      ]
     },
     "metadata": {
      "needs_background": "light"
     },
     "output_type": "display_data"
    }
   ],
   "source": [
    "fitness_title['MaritalStatus'].value_counts().plot('barh')\n",
    "plt.ylabel('Count')\n",
    "plt.xlabel('Age')\n",
    "plt.title('No. Of MaritalStatus Groups')"
   ]
  },
  {
   "cell_type": "code",
   "execution_count": 34,
   "metadata": {},
   "outputs": [
    {
     "name": "stderr",
     "output_type": "stream",
     "text": [
      "/opt/conda/lib/python3.6/site-packages/ipykernel_launcher.py:1: FutureWarning: `Series.plot()` should not be called with positional arguments, only keyword arguments. The order of positional arguments will change in the future. Use `Series.plot(kind='bar')` instead of `Series.plot('bar',)`.\n",
      "  \"\"\"Entry point for launching an IPython kernel.\n"
     ]
    },
    {
     "data": {
      "text/plain": [
       "Text(0.5, 1.0, 'No. Of MaritalStatus Groups')"
      ]
     },
     "execution_count": 34,
     "metadata": {},
     "output_type": "execute_result"
    },
    {
     "data": {
      "image/png": "[encoded data removed]",
      "text/plain": [
       "<Figure size 432x288 with 1 Axes>"
      ]
     },
     "metadata": {
      "needs_background": "light"
     },
     "output_type": "display_data"
    }
   ],
   "source": [
    "fitness_title['MaritalStatus'].value_counts().plot('bar')\n",
    "plt.ylabel('Count')\n",
    "plt.xlabel('status')\n",
    "plt.title('No. Of MaritalStatus Groups')"
   ]
  },
  {
   "cell_type": "code",
   "execution_count": 35,
   "metadata": {},
   "outputs": [
    {
     "data": {
      "text/html": [
       "<div>\n",
       "<style scoped>\n",
       "    .dataframe tbody tr th:only-of-type {\n",
       "        vertical-align: middle;\n",
       "    }\n",
       "\n",
       "    .dataframe tbody tr th {\n",
       "        vertical-align: top;\n",
       "    }\n",
       "\n",
       "    .dataframe thead th {\n",
       "        text-align: right;\n",
       "    }\n",
       "</style>\n",
       "<table border=\"1\" class=\"dataframe\">\n",
       "  <thead>\n",
       "    <tr style=\"text-align: right;\">\n",
       "      <th></th>\n",
       "      <th>Product</th>\n",
       "      <th>Age</th>\n",
       "      <th>Gender</th>\n",
       "      <th>Education</th>\n",
       "      <th>Usage</th>\n",
       "      <th>Fitness</th>\n",
       "      <th>Income</th>\n",
       "      <th>Miles</th>\n",
       "    </tr>\n",
       "    <tr>\n",
       "      <th>MaritalStatus</th>\n",
       "      <th></th>\n",
       "      <th></th>\n",
       "      <th></th>\n",
       "      <th></th>\n",
       "      <th></th>\n",
       "      <th></th>\n",
       "      <th></th>\n",
       "      <th></th>\n",
       "    </tr>\n",
       "  </thead>\n",
       "  <tbody>\n",
       "    <tr>\n",
       "      <td>Partnered</td>\n",
       "      <td>107</td>\n",
       "      <td>107</td>\n",
       "      <td>107</td>\n",
       "      <td>107</td>\n",
       "      <td>107</td>\n",
       "      <td>107</td>\n",
       "      <td>107</td>\n",
       "      <td>107</td>\n",
       "    </tr>\n",
       "    <tr>\n",
       "      <td>Single</td>\n",
       "      <td>73</td>\n",
       "      <td>73</td>\n",
       "      <td>73</td>\n",
       "      <td>73</td>\n",
       "      <td>73</td>\n",
       "      <td>73</td>\n",
       "      <td>73</td>\n",
       "      <td>73</td>\n",
       "    </tr>\n",
       "  </tbody>\n",
       "</table>\n",
       "</div>"
      ],
      "text/plain": [
       "               Product  Age  Gender  Education  Usage  Fitness  Income  Miles\n",
       "MaritalStatus                                                                \n",
       "Partnered          107  107     107        107    107      107     107    107\n",
       "Single              73   73      73         73     73       73      73     73"
      ]
     },
     "execution_count": 35,
     "metadata": {},
     "output_type": "execute_result"
    }
   ],
   "source": [
    "fitness_title.groupby(['MaritalStatus']).count()"
   ]
  },
  {
   "cell_type": "code",
   "execution_count": 36,
   "metadata": {},
   "outputs": [
    {
     "data": {
      "text/plain": [
       "Partnered    107\n",
       "Single        73\n",
       "Name: MaritalStatus, dtype: int64"
      ]
     },
     "execution_count": 36,
     "metadata": {},
     "output_type": "execute_result"
    }
   ],
   "source": [
    "fitness_title['MaritalStatus'].value_counts()"
   ]
  },
  {
   "cell_type": "code",
   "execution_count": 37,
   "metadata": {},
   "outputs": [
    {
     "data": {
      "text/plain": [
       "3    69\n",
       "4    52\n",
       "2    33\n",
       "5    17\n",
       "6     7\n",
       "7     2\n",
       "Name: Usage, dtype: int64"
      ]
     },
     "execution_count": 37,
     "metadata": {},
     "output_type": "execute_result"
    }
   ],
   "source": [
    "fitness_title['Usage'].value_counts()"
   ]
  },
  {
   "cell_type": "code",
   "execution_count": 38,
   "metadata": {},
   "outputs": [
    {
     "name": "stderr",
     "output_type": "stream",
     "text": [
      "/opt/conda/lib/python3.6/site-packages/ipykernel_launcher.py:1: FutureWarning: `Series.plot()` should not be called with positional arguments, only keyword arguments. The order of positional arguments will change in the future. Use `Series.plot(kind='bar')` instead of `Series.plot('bar',)`.\n",
      "  \"\"\"Entry point for launching an IPython kernel.\n"
     ]
    },
    {
     "data": {
      "text/plain": [
       "Text(0.5, 1.0, 'No. Of Usage Groups')"
      ]
     },
     "execution_count": 38,
     "metadata": {},
     "output_type": "execute_result"
    },
    {
     "data": {
      "image/png": "[encoded data removed]",
      "text/plain": [
       "<Figure size 432x288 with 1 Axes>"
      ]
     },
     "metadata": {
      "needs_background": "light"
     },
     "output_type": "display_data"
    }
   ],
   "source": [
    "fitness_title['Usage'].value_counts().plot('bar')\n",
    "plt.ylabel('Count')\n",
    "plt.xlabel('Usage Value')\n",
    "plt.title('No. Of Usage Groups')"
   ]
  },
  {
   "cell_type": "code",
   "execution_count": 39,
   "metadata": {},
   "outputs": [
    {
     "data": {
      "text/plain": [
       "3    97\n",
       "5    31\n",
       "2    26\n",
       "4    24\n",
       "1     2\n",
       "Name: Fitness, dtype: int64"
      ]
     },
     "execution_count": 39,
     "metadata": {},
     "output_type": "execute_result"
    }
   ],
   "source": [
    "fitness_title['Fitness'].value_counts()"
   ]
  },
  {
   "cell_type": "code",
   "execution_count": 40,
   "metadata": {},
   "outputs": [
    {
     "name": "stderr",
     "output_type": "stream",
     "text": [
      "/opt/conda/lib/python3.6/site-packages/ipykernel_launcher.py:1: FutureWarning: `Series.plot()` should not be called with positional arguments, only keyword arguments. The order of positional arguments will change in the future. Use `Series.plot(kind='bar')` instead of `Series.plot('bar',)`.\n",
      "  \"\"\"Entry point for launching an IPython kernel.\n"
     ]
    },
    {
     "data": {
      "text/plain": [
       "Text(0.5, 1.0, 'No. Of Fitness Groups')"
      ]
     },
     "execution_count": 40,
     "metadata": {},
     "output_type": "execute_result"
    },
    {
     "data": {
      "image/png": "[encoded data removed]",
      "text/plain": [
       "<Figure size 432x288 with 1 Axes>"
      ]
     },
     "metadata": {
      "needs_background": "light"
     },
     "output_type": "display_data"
    }
   ],
   "source": [
    "fitness_title['Fitness'].value_counts().plot('bar')\n",
    "plt.ylabel('Count')\n",
    "plt.xlabel('Fitness value')\n",
    "plt.title('No. Of Fitness Groups')"
   ]
  },
  {
   "cell_type": "code",
   "execution_count": 41,
   "metadata": {},
   "outputs": [
    {
     "data": {
      "text/plain": [
       "16    85\n",
       "14    55\n",
       "18    23\n",
       "15     5\n",
       "13     5\n",
       "21     3\n",
       "12     3\n",
       "20     1\n",
       "Name: Education, dtype: int64"
      ]
     },
     "execution_count": 41,
     "metadata": {},
     "output_type": "execute_result"
    }
   ],
   "source": [
    "fitness_title['Education'].value_counts()"
   ]
  },
  {
   "cell_type": "code",
   "execution_count": 42,
   "metadata": {},
   "outputs": [
    {
     "name": "stderr",
     "output_type": "stream",
     "text": [
      "/opt/conda/lib/python3.6/site-packages/ipykernel_launcher.py:1: FutureWarning: `Series.plot()` should not be called with positional arguments, only keyword arguments. The order of positional arguments will change in the future. Use `Series.plot(kind='bar')` instead of `Series.plot('bar',)`.\n",
      "  \"\"\"Entry point for launching an IPython kernel.\n"
     ]
    },
    {
     "data": {
      "text/plain": [
       "Text(0.5, 1.0, 'No. Of Education Groups')"
      ]
     },
     "execution_count": 42,
     "metadata": {},
     "output_type": "execute_result"
    },
    {
     "data": {
      "image/png": "[encoded data removed]",
      "text/plain": [
       "<Figure size 432x288 with 1 Axes>"
      ]
     },
     "metadata": {
      "needs_background": "light"
     },
     "output_type": "display_data"
    }
   ],
   "source": [
    "fitness_title['Education'].value_counts().plot('bar')\n",
    "plt.ylabel('Count')\n",
    "plt.xlabel('Education')\n",
    "plt.title('No. Of Education Groups')"
   ]
  },
  {
   "cell_type": "code",
   "execution_count": 43,
   "metadata": {},
   "outputs": [
    {
     "name": "stderr",
     "output_type": "stream",
     "text": [
      "/opt/conda/lib/python3.6/site-packages/ipykernel_launcher.py:1: FutureWarning: `Series.plot()` should not be called with positional arguments, only keyword arguments. The order of positional arguments will change in the future. Use `Series.plot(kind='barh')` instead of `Series.plot('barh',)`.\n",
      "  \"\"\"Entry point for launching an IPython kernel.\n"
     ]
    },
    {
     "data": {
      "text/plain": [
       "Text(0.5, 1.0, 'No. Of Education Groups')"
      ]
     },
     "execution_count": 43,
     "metadata": {},
     "output_type": "execute_result"
    },
    {
     "data": {
      "image/png": "[encoded data removed]",
      "text/plain": [
       "<Figure size 432x288 with 1 Axes>"
      ]
     },
     "metadata": {
      "needs_background": "light"
     },
     "output_type": "display_data"
    }
   ],
   "source": [
    "fitness_title['Education'].value_counts().plot('barh')\n",
    "plt.ylabel('Count')\n",
    "plt.xlabel('Education')\n",
    "plt.title('No. Of Education Groups')"
   ]
  },
  {
   "cell_type": "code",
   "execution_count": null,
   "metadata": {},
   "outputs": [],
   "source": []
  }
 ],
 "metadata": {
  "kernelspec": {
   "display_name": "Python 3",
   "language": "python",
   "name": "python3"
  },
  "language_info": {
   "codemirror_mode": {
    "name": "ipython",
    "version": 3
   },
   "file_extension": ".py",
   "mimetype": "text/x-python",
   "name": "python",
   "nbconvert_exporter": "python",
   "pygments_lexer": "ipython3",
   "version": "3.6.6"
  }
 },
 "nbformat": 4,
 "nbformat_minor": 1
}
